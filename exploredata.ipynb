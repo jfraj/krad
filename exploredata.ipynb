{
 "metadata": {
  "name": "",
  "signature": "sha256:e703f1620d1413a39ad140916764aa73eeb5ebaeed5e225730fcd1183b06c590"
 },
 "nbformat": 3,
 "nbformat_minor": 0,
 "worksheets": [
  {
   "cells": [
    {
     "cell_type": "code",
     "collapsed": false,
     "input": [
      "import pandas as pd"
     ],
     "language": "python",
     "metadata": {},
     "outputs": [],
     "prompt_number": 1
    },
    {
     "cell_type": "code",
     "collapsed": false,
     "input": [
      "df = pd.read_csv(\"/Users/jean-francoisrajotte/projects/kaggle/krad/train_2013.csv\", nrows=5000)"
     ],
     "language": "python",
     "metadata": {},
     "outputs": [],
     "prompt_number": 2
    },
    {
     "cell_type": "code",
     "collapsed": false,
     "input": [
      "df['TimeToEnd'].head()"
     ],
     "language": "python",
     "metadata": {},
     "outputs": [
      {
       "metadata": {},
       "output_type": "pyout",
       "prompt_number": 3,
       "text": [
        "0                56.0 37.0 31.0 25.0 19.0 13.0 7.0 2.0\n",
        "1                         58.0 48.0 38.0 29.0 19.0 9.0\n",
        "2                                            59.0 20.0\n",
        "3                         53.0 43.0 34.0 24.0 14.0 5.0\n",
        "4    56.0 52.0 43.0 59.0 54.0 48.0 42.0 36.0 31.0 5...\n",
        "Name: TimeToEnd, dtype: object"
       ]
      }
     ],
     "prompt_number": 3
    },
    {
     "cell_type": "code",
     "collapsed": false,
     "input": [
      "df.shape"
     ],
     "language": "python",
     "metadata": {},
     "outputs": [
      {
       "metadata": {},
       "output_type": "pyout",
       "prompt_number": 4,
       "text": [
        "(5000, 20)"
       ]
      }
     ],
     "prompt_number": 4
    },
    {
     "cell_type": "code",
     "collapsed": false,
     "input": [
      "df[\"TimeToEnd\"][4]"
     ],
     "language": "python",
     "metadata": {},
     "outputs": [
      {
       "metadata": {},
       "output_type": "pyout",
       "prompt_number": 5,
       "text": [
        "'56.0 52.0 43.0 59.0 54.0 48.0 42.0 36.0 31.0 57.0 52.0 46.0 41.0 35.0 29.0 59.0 55.0 52.0 48.0 45.0 41.0 37.0 34.0 58.0 55.0 51.0 48.0 45.0 41.0 38.0 31.0 55.0 44.0'"
       ]
      }
     ],
     "prompt_number": 5
    },
    {
     "cell_type": "markdown",
     "metadata": {},
     "source": [
      "###Some cleaning test"
     ]
    },
    {
     "cell_type": "code",
     "collapsed": false,
     "input": [
      "import clean"
     ],
     "language": "python",
     "metadata": {},
     "outputs": [],
     "prompt_number": 6
    },
    {
     "cell_type": "code",
     "collapsed": false,
     "input": [
      "df['radarlength'] = df['TimeToEnd'].apply(clean.getRadarLength)"
     ],
     "language": "python",
     "metadata": {},
     "outputs": [],
     "prompt_number": 7
    },
    {
     "cell_type": "code",
     "collapsed": false,
     "input": [
      "df['timetoend1'], df['timetoend2'] = zip(*df[['radarlength','TimeToEnd']].apply(clean.separate_listInColumn, axis=1))"
     ],
     "language": "python",
     "metadata": {},
     "outputs": [],
     "prompt_number": 8
    },
    {
     "cell_type": "code",
     "collapsed": false,
     "input": [
      "df[['TimeToEnd','radarlength','timetoend1','timetoend2']].head()"
     ],
     "language": "python",
     "metadata": {},
     "outputs": [
      {
       "html": [
        "<div style=\"max-height:1000px;max-width:1500px;overflow:auto;\">\n",
        "<table border=\"1\" class=\"dataframe\">\n",
        "  <thead>\n",
        "    <tr style=\"text-align: right;\">\n",
        "      <th></th>\n",
        "      <th>TimeToEnd</th>\n",
        "      <th>radarlength</th>\n",
        "      <th>timetoend1</th>\n",
        "      <th>timetoend2</th>\n",
        "    </tr>\n",
        "  </thead>\n",
        "  <tbody>\n",
        "    <tr>\n",
        "      <th>0</th>\n",
        "      <td>             56.0 37.0 31.0 25.0 19.0 13.0 7.0 2.0</td>\n",
        "      <td>             (8, 0)</td>\n",
        "      <td> [56.0, 37.0, 31.0, 25.0, 19.0, 13.0, 7.0, 2.0]</td>\n",
        "      <td>                                   []</td>\n",
        "    </tr>\n",
        "    <tr>\n",
        "      <th>1</th>\n",
        "      <td>                      58.0 48.0 38.0 29.0 19.0 9.0</td>\n",
        "      <td>             (6, 0)</td>\n",
        "      <td>            [58.0, 48.0, 38.0, 29.0, 19.0, 9.0]</td>\n",
        "      <td>                                   []</td>\n",
        "    </tr>\n",
        "    <tr>\n",
        "      <th>2</th>\n",
        "      <td>                                         59.0 20.0</td>\n",
        "      <td>             (2, 0)</td>\n",
        "      <td>                                   [59.0, 20.0]</td>\n",
        "      <td>                                   []</td>\n",
        "    </tr>\n",
        "    <tr>\n",
        "      <th>3</th>\n",
        "      <td>                      53.0 43.0 34.0 24.0 14.0 5.0</td>\n",
        "      <td>             (6, 0)</td>\n",
        "      <td>            [53.0, 43.0, 34.0, 24.0, 14.0, 5.0]</td>\n",
        "      <td>                                   []</td>\n",
        "    </tr>\n",
        "    <tr>\n",
        "      <th>4</th>\n",
        "      <td> 56.0 52.0 43.0 59.0 54.0 48.0 42.0 36.0 31.0 5...</td>\n",
        "      <td> (3, 6, 6, 8, 8, 2)</td>\n",
        "      <td>                             [56.0, 52.0, 43.0]</td>\n",
        "      <td> [59.0, 54.0, 48.0, 42.0, 36.0, 31.0]</td>\n",
        "    </tr>\n",
        "  </tbody>\n",
        "</table>\n",
        "</div>"
       ],
       "metadata": {},
       "output_type": "pyout",
       "prompt_number": 9,
       "text": [
        "                                           TimeToEnd         radarlength  \\\n",
        "0              56.0 37.0 31.0 25.0 19.0 13.0 7.0 2.0              (8, 0)   \n",
        "1                       58.0 48.0 38.0 29.0 19.0 9.0              (6, 0)   \n",
        "2                                          59.0 20.0              (2, 0)   \n",
        "3                       53.0 43.0 34.0 24.0 14.0 5.0              (6, 0)   \n",
        "4  56.0 52.0 43.0 59.0 54.0 48.0 42.0 36.0 31.0 5...  (3, 6, 6, 8, 8, 2)   \n",
        "\n",
        "                                       timetoend1  \\\n",
        "0  [56.0, 37.0, 31.0, 25.0, 19.0, 13.0, 7.0, 2.0]   \n",
        "1             [58.0, 48.0, 38.0, 29.0, 19.0, 9.0]   \n",
        "2                                    [59.0, 20.0]   \n",
        "3             [53.0, 43.0, 34.0, 24.0, 14.0, 5.0]   \n",
        "4                              [56.0, 52.0, 43.0]   \n",
        "\n",
        "                             timetoend2  \n",
        "0                                    []  \n",
        "1                                    []  \n",
        "2                                    []  \n",
        "3                                    []  \n",
        "4  [59.0, 54.0, 48.0, 42.0, 36.0, 31.0]  "
       ]
      }
     ],
     "prompt_number": 9
    },
    {
     "cell_type": "code",
     "collapsed": false,
     "input": [
      "df.columns.values"
     ],
     "language": "python",
     "metadata": {},
     "outputs": [
      {
       "metadata": {},
       "output_type": "pyout",
       "prompt_number": 13,
       "text": [
        "array(['Id', 'TimeToEnd', 'DistanceToRadar', 'Composite', 'HybridScan',\n",
        "       'HydrometeorType', 'Kdp', 'RR1', 'RR2', 'RR3', 'RadarQualityIndex',\n",
        "       'Reflectivity', 'ReflectivityQC', 'RhoHV', 'Velocity', 'Zdr',\n",
        "       'LogWaterVolume', 'MassWeightedMean', 'MassWeightedSD', 'Expected',\n",
        "       'radarlength', 'timetoend1', 'timetoend2'], dtype=object)"
       ]
      }
     ],
     "prompt_number": 13
    },
    {
     "cell_type": "code",
     "collapsed": false,
     "input": [
      "df.head()"
     ],
     "language": "python",
     "metadata": {},
     "outputs": [
      {
       "html": [
        "<div style=\"max-height:1000px;max-width:1500px;overflow:auto;\">\n",
        "<table border=\"1\" class=\"dataframe\">\n",
        "  <thead>\n",
        "    <tr style=\"text-align: right;\">\n",
        "      <th></th>\n",
        "      <th>Id</th>\n",
        "      <th>TimeToEnd</th>\n",
        "      <th>DistanceToRadar</th>\n",
        "      <th>Composite</th>\n",
        "      <th>HybridScan</th>\n",
        "      <th>HydrometeorType</th>\n",
        "      <th>Kdp</th>\n",
        "      <th>RR1</th>\n",
        "      <th>RR2</th>\n",
        "      <th>RR3</th>\n",
        "      <th>...</th>\n",
        "      <th>RhoHV</th>\n",
        "      <th>Velocity</th>\n",
        "      <th>Zdr</th>\n",
        "      <th>LogWaterVolume</th>\n",
        "      <th>MassWeightedMean</th>\n",
        "      <th>MassWeightedSD</th>\n",
        "      <th>Expected</th>\n",
        "      <th>radarlength</th>\n",
        "      <th>timetoend1</th>\n",
        "      <th>timetoend2</th>\n",
        "    </tr>\n",
        "  </thead>\n",
        "  <tbody>\n",
        "    <tr>\n",
        "      <th>0</th>\n",
        "      <td> 1</td>\n",
        "      <td>             56.0 37.0 31.0 25.0 19.0 13.0 7.0 2.0</td>\n",
        "      <td>           30.0 30.0 30.0 30.0 30.0 30.0 30.0 30.0</td>\n",
        "      <td> -99900.0 -99900.0 -99900.0 -99900.0 -99900.0 -...</td>\n",
        "      <td> -99900.0 -99900.0 -99900.0 -99900.0 -99900.0 -...</td>\n",
        "      <td>                   8.0 8.0 8.0 8.0 8.0 8.0 8.0 8.0</td>\n",
        "      <td>                   0.0 0.0 0.0 0.0 0.0 0.0 0.0 0.0</td>\n",
        "      <td>                   0.0 0.0 0.0 0.0 0.0 0.0 0.0 0.0</td>\n",
        "      <td> -99900.0 -99900.0 -99900.0 -99900.0 -99900.0 -...</td>\n",
        "      <td> -99900.0 -99900.0 -99900.0 -99900.0 -99900.0 -...</td>\n",
        "      <td>...</td>\n",
        "      <td> 0.865 0.841667 0.765 0.985 0.768333 0.491667 0...</td>\n",
        "      <td> -99901.0 -99901.0 -99901.0 -99901.0 -99901.0 -...</td>\n",
        "      <td> 7.9375 4.5 4.1875 5.5625 3.375 7.0625 5.3125 6...</td>\n",
        "      <td>                   nan nan nan nan nan nan nan nan</td>\n",
        "      <td>                   nan nan nan nan nan nan nan nan</td>\n",
        "      <td>                   nan nan nan nan nan nan nan nan</td>\n",
        "      <td> 0</td>\n",
        "      <td>             (8, 0)</td>\n",
        "      <td> [56.0, 37.0, 31.0, 25.0, 19.0, 13.0, 7.0, 2.0]</td>\n",
        "      <td>                                   []</td>\n",
        "    </tr>\n",
        "    <tr>\n",
        "      <th>1</th>\n",
        "      <td> 2</td>\n",
        "      <td>                      58.0 48.0 38.0 29.0 19.0 9.0</td>\n",
        "      <td>                     77.0 77.0 77.0 77.0 77.0 77.0</td>\n",
        "      <td> -99900.0 -99900.0 -99900.0 -99900.0 -99900.0 -...</td>\n",
        "      <td> -99900.0 -99900.0 -99900.0 -99900.0 -99900.0 -...</td>\n",
        "      <td>                           8.0 8.0 8.0 8.0 8.0 8.0</td>\n",
        "      <td>                           0.0 0.0 0.0 0.0 0.0 0.0</td>\n",
        "      <td>                           0.0 0.0 0.0 0.0 0.0 0.0</td>\n",
        "      <td> -99900.0 -99900.0 -99900.0 -99900.0 -99900.0 -...</td>\n",
        "      <td> -99900.0 -99900.0 -99900.0 -99900.0 -99900.0 -...</td>\n",
        "      <td>...</td>\n",
        "      <td> 0.635 0.851667 0.891667 0.638333 0.791667 0.73...</td>\n",
        "      <td>                      -4.0 -3.0 -2.0 -0.5 -4.0 3.0</td>\n",
        "      <td>                2.6875 3.0 2.375 6.25 3.125 6.0625</td>\n",
        "      <td>                           nan nan nan nan nan nan</td>\n",
        "      <td>                           nan nan nan nan nan nan</td>\n",
        "      <td>                           nan nan nan nan nan nan</td>\n",
        "      <td> 0</td>\n",
        "      <td>             (6, 0)</td>\n",
        "      <td>            [58.0, 48.0, 38.0, 29.0, 19.0, 9.0]</td>\n",
        "      <td>                                   []</td>\n",
        "    </tr>\n",
        "    <tr>\n",
        "      <th>2</th>\n",
        "      <td> 3</td>\n",
        "      <td>                                         59.0 20.0</td>\n",
        "      <td>                                         75.0 75.0</td>\n",
        "      <td>                                 -99900.0 -99900.0</td>\n",
        "      <td>                                 -99900.0 -99900.0</td>\n",
        "      <td>                                           8.0 8.0</td>\n",
        "      <td>                                           0.0 0.0</td>\n",
        "      <td>                                           0.0 0.0</td>\n",
        "      <td>                                 -99900.0 -99900.0</td>\n",
        "      <td>                                 -99900.0 -99900.0</td>\n",
        "      <td>...</td>\n",
        "      <td>                                 0.998333 0.891667</td>\n",
        "      <td>                                     -99900.0 -3.5</td>\n",
        "      <td>                                      -6.5 -4.6875</td>\n",
        "      <td>                                           nan nan</td>\n",
        "      <td>                                           nan nan</td>\n",
        "      <td>                                           nan nan</td>\n",
        "      <td> 0</td>\n",
        "      <td>             (2, 0)</td>\n",
        "      <td>                                   [59.0, 20.0]</td>\n",
        "      <td>                                   []</td>\n",
        "    </tr>\n",
        "    <tr>\n",
        "      <th>3</th>\n",
        "      <td> 4</td>\n",
        "      <td>                      53.0 43.0 34.0 24.0 14.0 5.0</td>\n",
        "      <td>                     21.0 21.0 21.0 21.0 21.0 21.0</td>\n",
        "      <td> -99900.0 -99900.0 -99900.0 -99900.0 -99900.0 -...</td>\n",
        "      <td> -99900.0 -99900.0 -99900.0 -99900.0 -99900.0 -...</td>\n",
        "      <td>                           8.0 8.0 8.0 8.0 8.0 8.0</td>\n",
        "      <td>                           0.0 0.0 0.0 0.0 0.0 0.0</td>\n",
        "      <td>                           0.0 0.0 0.0 0.0 0.0 0.0</td>\n",
        "      <td> -99900.0 -99900.0 -99900.0 -99900.0 -99900.0 -...</td>\n",
        "      <td> -99900.0 -99900.0 -99900.0 -99900.0 -99900.0 -...</td>\n",
        "      <td>...</td>\n",
        "      <td>   0.688333 0.518333 0.708333 0.805 0.708333 0.555</td>\n",
        "      <td>                  -7.0 -12.0 -11.5 -8.5 -8.0 -13.0</td>\n",
        "      <td>            -0.375 5.0625 1.1875 2.0 2.0625 0.3125</td>\n",
        "      <td>                           nan nan nan nan nan nan</td>\n",
        "      <td>                           nan nan nan nan nan nan</td>\n",
        "      <td>                           nan nan nan nan nan nan</td>\n",
        "      <td> 0</td>\n",
        "      <td>             (6, 0)</td>\n",
        "      <td>            [53.0, 43.0, 34.0, 24.0, 14.0, 5.0]</td>\n",
        "      <td>                                   []</td>\n",
        "    </tr>\n",
        "    <tr>\n",
        "      <th>4</th>\n",
        "      <td> 5</td>\n",
        "      <td> 56.0 52.0 43.0 59.0 54.0 48.0 42.0 36.0 31.0 5...</td>\n",
        "      <td> 69.0 69.0 69.0 83.0 83.0 83.0 83.0 83.0 83.0 5...</td>\n",
        "      <td> 23.0 24.0 22.0 15.5 14.5 16.0 15.0 18.5 12.5 1...</td>\n",
        "      <td> 13.5 15.5 19.0 -99900.0 -99900.0 -99900.0 -999...</td>\n",
        "      <td> 9.0 9.0 9.0 8.0 8.0 8.0 8.0 9.0 9.0 9.0 9.0 9....</td>\n",
        "      <td> 0.0 0.0 0.0 0.0 0.0 0.0 0.0 0.0 0.0 0.0 0.0 0....</td>\n",
        "      <td> 0.0 0.0 0.0 0.0 0.0 0.0 0.0 0.0 0.0 1.27899 0....</td>\n",
        "      <td> -99900.0 -99900.0 -99900.0 -99900.0 -99900.0 -...</td>\n",
        "      <td> -99900.0 -99900.0 -99900.0 -99900.0 -99900.0 -...</td>\n",
        "      <td>...</td>\n",
        "      <td> 1.01833 1.01167 0.991667 1.015 1.015 1.005 1.0...</td>\n",
        "      <td> 14.0 13.5 12.5 -13.5 -19.5 -16.0 -15.0 -14.0 -...</td>\n",
        "      <td> 0.9375 -0.875 -0.75 0.0 0.0625 0.3125 0.5625 -...</td>\n",
        "      <td> -13.4793885769 -12.1370512402 -11.6001776071 n...</td>\n",
        "      <td> 1.86413642918 1.27740873124 1.35497004174 nan ...</td>\n",
        "      <td> 0.755068594278 0.502681241559 0.514253049727 n...</td>\n",
        "      <td> 0</td>\n",
        "      <td> (3, 6, 6, 8, 8, 2)</td>\n",
        "      <td>                             [56.0, 52.0, 43.0]</td>\n",
        "      <td> [59.0, 54.0, 48.0, 42.0, 36.0, 31.0]</td>\n",
        "    </tr>\n",
        "  </tbody>\n",
        "</table>\n",
        "<p>5 rows \u00d7 23 columns</p>\n",
        "</div>"
       ],
       "metadata": {},
       "output_type": "pyout",
       "prompt_number": 14,
       "text": [
        "   Id                                          TimeToEnd  \\\n",
        "0   1              56.0 37.0 31.0 25.0 19.0 13.0 7.0 2.0   \n",
        "1   2                       58.0 48.0 38.0 29.0 19.0 9.0   \n",
        "2   3                                          59.0 20.0   \n",
        "3   4                       53.0 43.0 34.0 24.0 14.0 5.0   \n",
        "4   5  56.0 52.0 43.0 59.0 54.0 48.0 42.0 36.0 31.0 5...   \n",
        "\n",
        "                                     DistanceToRadar  \\\n",
        "0            30.0 30.0 30.0 30.0 30.0 30.0 30.0 30.0   \n",
        "1                      77.0 77.0 77.0 77.0 77.0 77.0   \n",
        "2                                          75.0 75.0   \n",
        "3                      21.0 21.0 21.0 21.0 21.0 21.0   \n",
        "4  69.0 69.0 69.0 83.0 83.0 83.0 83.0 83.0 83.0 5...   \n",
        "\n",
        "                                           Composite  \\\n",
        "0  -99900.0 -99900.0 -99900.0 -99900.0 -99900.0 -...   \n",
        "1  -99900.0 -99900.0 -99900.0 -99900.0 -99900.0 -...   \n",
        "2                                  -99900.0 -99900.0   \n",
        "3  -99900.0 -99900.0 -99900.0 -99900.0 -99900.0 -...   \n",
        "4  23.0 24.0 22.0 15.5 14.5 16.0 15.0 18.5 12.5 1...   \n",
        "\n",
        "                                          HybridScan  \\\n",
        "0  -99900.0 -99900.0 -99900.0 -99900.0 -99900.0 -...   \n",
        "1  -99900.0 -99900.0 -99900.0 -99900.0 -99900.0 -...   \n",
        "2                                  -99900.0 -99900.0   \n",
        "3  -99900.0 -99900.0 -99900.0 -99900.0 -99900.0 -...   \n",
        "4  13.5 15.5 19.0 -99900.0 -99900.0 -99900.0 -999...   \n",
        "\n",
        "                                     HydrometeorType  \\\n",
        "0                    8.0 8.0 8.0 8.0 8.0 8.0 8.0 8.0   \n",
        "1                            8.0 8.0 8.0 8.0 8.0 8.0   \n",
        "2                                            8.0 8.0   \n",
        "3                            8.0 8.0 8.0 8.0 8.0 8.0   \n",
        "4  9.0 9.0 9.0 8.0 8.0 8.0 8.0 9.0 9.0 9.0 9.0 9....   \n",
        "\n",
        "                                                 Kdp  \\\n",
        "0                    0.0 0.0 0.0 0.0 0.0 0.0 0.0 0.0   \n",
        "1                            0.0 0.0 0.0 0.0 0.0 0.0   \n",
        "2                                            0.0 0.0   \n",
        "3                            0.0 0.0 0.0 0.0 0.0 0.0   \n",
        "4  0.0 0.0 0.0 0.0 0.0 0.0 0.0 0.0 0.0 0.0 0.0 0....   \n",
        "\n",
        "                                                 RR1  \\\n",
        "0                    0.0 0.0 0.0 0.0 0.0 0.0 0.0 0.0   \n",
        "1                            0.0 0.0 0.0 0.0 0.0 0.0   \n",
        "2                                            0.0 0.0   \n",
        "3                            0.0 0.0 0.0 0.0 0.0 0.0   \n",
        "4  0.0 0.0 0.0 0.0 0.0 0.0 0.0 0.0 0.0 1.27899 0....   \n",
        "\n",
        "                                                 RR2  \\\n",
        "0  -99900.0 -99900.0 -99900.0 -99900.0 -99900.0 -...   \n",
        "1  -99900.0 -99900.0 -99900.0 -99900.0 -99900.0 -...   \n",
        "2                                  -99900.0 -99900.0   \n",
        "3  -99900.0 -99900.0 -99900.0 -99900.0 -99900.0 -...   \n",
        "4  -99900.0 -99900.0 -99900.0 -99900.0 -99900.0 -...   \n",
        "\n",
        "                                                 RR3  \\\n",
        "0  -99900.0 -99900.0 -99900.0 -99900.0 -99900.0 -...   \n",
        "1  -99900.0 -99900.0 -99900.0 -99900.0 -99900.0 -...   \n",
        "2                                  -99900.0 -99900.0   \n",
        "3  -99900.0 -99900.0 -99900.0 -99900.0 -99900.0 -...   \n",
        "4  -99900.0 -99900.0 -99900.0 -99900.0 -99900.0 -...   \n",
        "\n",
        "                   ...                   \\\n",
        "0                  ...                    \n",
        "1                  ...                    \n",
        "2                  ...                    \n",
        "3                  ...                    \n",
        "4                  ...                    \n",
        "\n",
        "                                               RhoHV  \\\n",
        "0  0.865 0.841667 0.765 0.985 0.768333 0.491667 0...   \n",
        "1  0.635 0.851667 0.891667 0.638333 0.791667 0.73...   \n",
        "2                                  0.998333 0.891667   \n",
        "3    0.688333 0.518333 0.708333 0.805 0.708333 0.555   \n",
        "4  1.01833 1.01167 0.991667 1.015 1.015 1.005 1.0...   \n",
        "\n",
        "                                            Velocity  \\\n",
        "0  -99901.0 -99901.0 -99901.0 -99901.0 -99901.0 -...   \n",
        "1                       -4.0 -3.0 -2.0 -0.5 -4.0 3.0   \n",
        "2                                      -99900.0 -3.5   \n",
        "3                   -7.0 -12.0 -11.5 -8.5 -8.0 -13.0   \n",
        "4  14.0 13.5 12.5 -13.5 -19.5 -16.0 -15.0 -14.0 -...   \n",
        "\n",
        "                                                 Zdr  \\\n",
        "0  7.9375 4.5 4.1875 5.5625 3.375 7.0625 5.3125 6...   \n",
        "1                 2.6875 3.0 2.375 6.25 3.125 6.0625   \n",
        "2                                       -6.5 -4.6875   \n",
        "3             -0.375 5.0625 1.1875 2.0 2.0625 0.3125   \n",
        "4  0.9375 -0.875 -0.75 0.0 0.0625 0.3125 0.5625 -...   \n",
        "\n",
        "                                      LogWaterVolume  \\\n",
        "0                    nan nan nan nan nan nan nan nan   \n",
        "1                            nan nan nan nan nan nan   \n",
        "2                                            nan nan   \n",
        "3                            nan nan nan nan nan nan   \n",
        "4  -13.4793885769 -12.1370512402 -11.6001776071 n...   \n",
        "\n",
        "                                    MassWeightedMean  \\\n",
        "0                    nan nan nan nan nan nan nan nan   \n",
        "1                            nan nan nan nan nan nan   \n",
        "2                                            nan nan   \n",
        "3                            nan nan nan nan nan nan   \n",
        "4  1.86413642918 1.27740873124 1.35497004174 nan ...   \n",
        "\n",
        "                                      MassWeightedSD Expected  \\\n",
        "0                    nan nan nan nan nan nan nan nan        0   \n",
        "1                            nan nan nan nan nan nan        0   \n",
        "2                                            nan nan        0   \n",
        "3                            nan nan nan nan nan nan        0   \n",
        "4  0.755068594278 0.502681241559 0.514253049727 n...        0   \n",
        "\n",
        "          radarlength                                      timetoend1  \\\n",
        "0              (8, 0)  [56.0, 37.0, 31.0, 25.0, 19.0, 13.0, 7.0, 2.0]   \n",
        "1              (6, 0)             [58.0, 48.0, 38.0, 29.0, 19.0, 9.0]   \n",
        "2              (2, 0)                                    [59.0, 20.0]   \n",
        "3              (6, 0)             [53.0, 43.0, 34.0, 24.0, 14.0, 5.0]   \n",
        "4  (3, 6, 6, 8, 8, 2)                              [56.0, 52.0, 43.0]   \n",
        "\n",
        "                             timetoend2  \n",
        "0                                    []  \n",
        "1                                    []  \n",
        "2                                    []  \n",
        "3                                    []  \n",
        "4  [59.0, 54.0, 48.0, 42.0, 36.0, 31.0]  \n",
        "\n",
        "[5 rows x 23 columns]"
       ]
      }
     ],
     "prompt_number": 14
    },
    {
     "cell_type": "code",
     "collapsed": false,
     "input": [
      "df[['Reflectivity','RadarQualityIndex', 'ReflectivityQC']].head()"
     ],
     "language": "python",
     "metadata": {},
     "outputs": [
      {
       "html": [
        "<div style=\"max-height:1000px;max-width:1500px;overflow:auto;\">\n",
        "<table border=\"1\" class=\"dataframe\">\n",
        "  <thead>\n",
        "    <tr style=\"text-align: right;\">\n",
        "      <th></th>\n",
        "      <th>Reflectivity</th>\n",
        "      <th>RadarQualityIndex</th>\n",
        "      <th>ReflectivityQC</th>\n",
        "    </tr>\n",
        "  </thead>\n",
        "  <tbody>\n",
        "    <tr>\n",
        "      <th>0</th>\n",
        "      <td>               13.0 17.5 14.0 8.5 7.0 11.0 9.0 9.0</td>\n",
        "      <td> 0.006246 0.0200476 0.0113924 0.217157 0.028566...</td>\n",
        "      <td> -99900.0 -99900.0 -99900.0 -99900.0 -99900.0 -...</td>\n",
        "    </tr>\n",
        "    <tr>\n",
        "      <th>1</th>\n",
        "      <td>                       15.0 18.5 10.5 3.0 0.5 -3.0</td>\n",
        "      <td>               999.0 999.0 999.0 999.0 999.0 999.0</td>\n",
        "      <td> -99900.0 -99900.0 -99900.0 -99900.0 -99900.0 -...</td>\n",
        "    </tr>\n",
        "    <tr>\n",
        "      <th>2</th>\n",
        "      <td>                                           6.5 4.0</td>\n",
        "      <td>                                       999.0 999.0</td>\n",
        "      <td>                                 -99900.0 -99900.0</td>\n",
        "    </tr>\n",
        "    <tr>\n",
        "      <th>3</th>\n",
        "      <td>                     11.0 14.0 12.0 11.0 13.0 15.5</td>\n",
        "      <td>                           0.0 0.0 0.0 0.0 0.0 0.0</td>\n",
        "      <td> -99900.0 -99900.0 -99900.0 -99900.0 -99900.0 -...</td>\n",
        "    </tr>\n",
        "    <tr>\n",
        "      <th>4</th>\n",
        "      <td> 14.0 14.0 17.0 24.5 23.5 21.5 25.0 16.0 21.0 1...</td>\n",
        "      <td> 1.0 1.0 1.0 0.0 0.0 0.0 0.0 1.0 0.0 0.996433 0...</td>\n",
        "      <td> 14.0 14.0 17.0 -99900.0 -99900.0 -99900.0 -999...</td>\n",
        "    </tr>\n",
        "  </tbody>\n",
        "</table>\n",
        "</div>"
       ],
       "metadata": {},
       "output_type": "pyout",
       "prompt_number": 35,
       "text": [
        "                                        Reflectivity  \\\n",
        "0                13.0 17.5 14.0 8.5 7.0 11.0 9.0 9.0   \n",
        "1                        15.0 18.5 10.5 3.0 0.5 -3.0   \n",
        "2                                            6.5 4.0   \n",
        "3                      11.0 14.0 12.0 11.0 13.0 15.5   \n",
        "4  14.0 14.0 17.0 24.5 23.5 21.5 25.0 16.0 21.0 1...   \n",
        "\n",
        "                                   RadarQualityIndex  \\\n",
        "0  0.006246 0.0200476 0.0113924 0.217157 0.028566...   \n",
        "1                999.0 999.0 999.0 999.0 999.0 999.0   \n",
        "2                                        999.0 999.0   \n",
        "3                            0.0 0.0 0.0 0.0 0.0 0.0   \n",
        "4  1.0 1.0 1.0 0.0 0.0 0.0 0.0 1.0 0.0 0.996433 0...   \n",
        "\n",
        "                                      ReflectivityQC  \n",
        "0  -99900.0 -99900.0 -99900.0 -99900.0 -99900.0 -...  \n",
        "1  -99900.0 -99900.0 -99900.0 -99900.0 -99900.0 -...  \n",
        "2                                  -99900.0 -99900.0  \n",
        "3  -99900.0 -99900.0 -99900.0 -99900.0 -99900.0 -...  \n",
        "4  14.0 14.0 17.0 -99900.0 -99900.0 -99900.0 -999...  "
       ]
      }
     ],
     "prompt_number": 35
    },
    {
     "cell_type": "code",
     "collapsed": false,
     "input": [
      "df[['radarlength', 'DistanceToRadar']].iloc[4][1]"
     ],
     "language": "python",
     "metadata": {},
     "outputs": [
      {
       "metadata": {},
       "output_type": "pyout",
       "prompt_number": 20,
       "text": [
        "'69.0 69.0 69.0 83.0 83.0 83.0 83.0 83.0 83.0 54.0 54.0 54.0 54.0 54.0 54.0 3.0 3.0 3.0 3.0 3.0 3.0 3.0 3.0 60.0 60.0 60.0 60.0 60.0 60.0 60.0 60.0 58.0 58.0'"
       ]
      }
     ],
     "prompt_number": 20
    },
    {
     "cell_type": "code",
     "collapsed": false,
     "input": [
      "df['reflectivity1'], df['reflectivity2'] = zip(*df[['radarlength','Reflectivity']].apply(clean.separate_listInColumn, axis=1))"
     ],
     "language": "python",
     "metadata": {},
     "outputs": [],
     "prompt_number": 22
    },
    {
     "cell_type": "code",
     "collapsed": false,
     "input": [
      "df[['Reflectivity', 'reflectivity1']].head()"
     ],
     "language": "python",
     "metadata": {},
     "outputs": [
      {
       "html": [
        "<div style=\"max-height:1000px;max-width:1500px;overflow:auto;\">\n",
        "<table border=\"1\" class=\"dataframe\">\n",
        "  <thead>\n",
        "    <tr style=\"text-align: right;\">\n",
        "      <th></th>\n",
        "      <th>Reflectivity</th>\n",
        "      <th>reflectivity1</th>\n",
        "    </tr>\n",
        "  </thead>\n",
        "  <tbody>\n",
        "    <tr>\n",
        "      <th>0</th>\n",
        "      <td>               13.0 17.5 14.0 8.5 7.0 11.0 9.0 9.0</td>\n",
        "      <td> [13.0, 17.5, 14.0, 8.5, 7.0, 11.0, 9.0, 9.0]</td>\n",
        "    </tr>\n",
        "    <tr>\n",
        "      <th>1</th>\n",
        "      <td>                       15.0 18.5 10.5 3.0 0.5 -3.0</td>\n",
        "      <td>           [15.0, 18.5, 10.5, 3.0, 0.5, -3.0]</td>\n",
        "    </tr>\n",
        "    <tr>\n",
        "      <th>2</th>\n",
        "      <td>                                           6.5 4.0</td>\n",
        "      <td>                                   [6.5, 4.0]</td>\n",
        "    </tr>\n",
        "    <tr>\n",
        "      <th>3</th>\n",
        "      <td>                     11.0 14.0 12.0 11.0 13.0 15.5</td>\n",
        "      <td>         [11.0, 14.0, 12.0, 11.0, 13.0, 15.5]</td>\n",
        "    </tr>\n",
        "    <tr>\n",
        "      <th>4</th>\n",
        "      <td> 14.0 14.0 17.0 24.5 23.5 21.5 25.0 16.0 21.0 1...</td>\n",
        "      <td>                           [14.0, 14.0, 17.0]</td>\n",
        "    </tr>\n",
        "  </tbody>\n",
        "</table>\n",
        "</div>"
       ],
       "metadata": {},
       "output_type": "pyout",
       "prompt_number": 26,
       "text": [
        "                                        Reflectivity  \\\n",
        "0                13.0 17.5 14.0 8.5 7.0 11.0 9.0 9.0   \n",
        "1                        15.0 18.5 10.5 3.0 0.5 -3.0   \n",
        "2                                            6.5 4.0   \n",
        "3                      11.0 14.0 12.0 11.0 13.0 15.5   \n",
        "4  14.0 14.0 17.0 24.5 23.5 21.5 25.0 16.0 21.0 1...   \n",
        "\n",
        "                                  reflectivity1  \n",
        "0  [13.0, 17.5, 14.0, 8.5, 7.0, 11.0, 9.0, 9.0]  \n",
        "1            [15.0, 18.5, 10.5, 3.0, 0.5, -3.0]  \n",
        "2                                    [6.5, 4.0]  \n",
        "3          [11.0, 14.0, 12.0, 11.0, 13.0, 15.5]  \n",
        "4                            [14.0, 14.0, 17.0]  "
       ]
      }
     ],
     "prompt_number": 26
    },
    {
     "cell_type": "code",
     "collapsed": false,
     "input": [
      "df['reflectivity1_mean'] = df.apply(lambda row: sum(row['reflectivity1'])/len(row['reflectivity1']), axis=1)"
     ],
     "language": "python",
     "metadata": {},
     "outputs": [],
     "prompt_number": 32
    },
    {
     "cell_type": "markdown",
     "metadata": {},
     "source": [
      "###Plotting"
     ]
    },
    {
     "cell_type": "code",
     "collapsed": false,
     "input": [
      "%matplotlib inline"
     ],
     "language": "python",
     "metadata": {},
     "outputs": [],
     "prompt_number": 23
    },
    {
     "cell_type": "code",
     "collapsed": false,
     "input": [
      "df.reflectivity1_mean.hist(bins=30)"
     ],
     "language": "python",
     "metadata": {},
     "outputs": [
      {
       "metadata": {},
       "output_type": "pyout",
       "prompt_number": 33,
       "text": [
        "<matplotlib.axes._subplots.AxesSubplot at 0x107ba1a50>"
       ]
      },
      {
       "metadata": {},
       "output_type": "display_data",
       "png": "[encoded data removed]",
       "text": [
        "<matplotlib.figure.Figure at 0x107ba1bd0>"
       ]
      }
     ],
     "prompt_number": 33
    },
    {
     "cell_type": "code",
     "collapsed": false,
     "input": [],
     "language": "python",
     "metadata": {},
     "outputs": []
    }
   ],
   "metadata": {}
  }
 ]
}