{
 "metadata": {
  "name": "",
  "signature": "sha256:d2af190395ba473ea7568e190b5af38b4abb96dfcc04828d548c81779b2b7991"
 },
 "nbformat": 3,
 "nbformat_minor": 0,
 "worksheets": [
  {
   "cells": [
    {
     "cell_type": "heading",
     "level": 1,
     "metadata": {},
     "source": [
      "In this notebook, I will explore some of the features of the Doppler radar data for the rain prediction Kaggle competition."
     ]
    },
    {
     "cell_type": "markdown",
     "metadata": {},
     "source": [
      "Column explanations\n",
      "\n",
      "- TimeToEnd:  How many minutes before the end of the hour was this radar observation?\n",
      "\n",
      "- DistanceToRadar:  Distance between radar and gauge.  This value is scaled and rounded to prevent reverse engineering gauge location\n",
      "\n",
      "- Composite:  Maximum reflectivity in vertical volume above gauge\n",
      "\n",
      "- HybridScan: Reflectivity in elevation scan closest to ground\n",
      "\n",
      "- HydrometeorType:  One of nine categories in NSSL HCA. See presentation for details.\n",
      "\n",
      "- Kdp:  Differential phase\n",
      "\n",
      "- RR1:  Rain rate from HCA-based algorithm\n",
      "\n",
      "- RR2:  Rain rate from Zdr-based algorithm\n",
      "\n",
      "- RR3:  Rain rate from Kdp-based algorithm\n",
      "\n",
      "- RadarQualityIndex:  A value from 0 (bad data) to 1 (good data)\n",
      "\n",
      "- Reflectivity:  In dBZ\n",
      "\n",
      "- ReflectivityQC:  Quality-controlled reflectivity\n",
      "\n",
      "- RhoHV:  Correlation coefficient\n",
      "\n",
      "- Velocity:  (aliased) Doppler velocity\n",
      "\n",
      "- Zdr:  Differential reflectivity in dB\n",
      "\n",
      "- LogWaterVolume:  How much of radar pixel is filled with water droplets?\n",
      "\n",
      "- MassWeightedMean:  Mean drop size in mm\n",
      "\n",
      "- MassWeightedSD:  Standard deviation of drop size\n",
      "\n",
      "- Expected: the actual amount of rain reported by the rain gauge for that hour (in mm)\n",
      "\n",
      "Here are some of the information that could be gained from reading the Forum:\n",
      "- \n",
      "\n"
     ]
    },
    {
     "cell_type": "code",
     "collapsed": false,
     "input": [
      "# The usual preamble, following Jula Evans' tutorial \n",
      "%matplotlib inline\n",
      "import pandas as pd\n",
      "import matplotlib.pyplot as plt\n",
      "\n",
      "# Make the graphs a bit prettier, and bigger\n",
      "pd.set_option('display.mpl_style', 'default')\n",
      "\n",
      "# This is necessary to show lots of columns in pandas 0.12. \n",
      "# Not necessary in pandas 0.13.\n",
      "pd.set_option('display.width', 5000) \n",
      "pd.set_option('display.max_columns', 60)\n",
      "\n",
      "plt.rcParams['figure.figsize'] = (15, 5)"
     ],
     "language": "python",
     "metadata": {},
     "outputs": [],
     "prompt_number": 1
    },
    {
     "cell_type": "code",
     "collapsed": false,
     "input": [
      "filename = '../train_2013.csv'\n",
      "\n",
      "# visualize the data, for a first taste of what's in there\n",
      "data = pd.read_csv(filename, nrows=2)\n",
      "data"
     ],
     "language": "python",
     "metadata": {},
     "outputs": [
      {
       "html": [
        "<div style=\"max-height:1000px;max-width:1500px;overflow:auto;\">\n",
        "<table border=\"1\" class=\"dataframe\">\n",
        "  <thead>\n",
        "    <tr style=\"text-align: right;\">\n",
        "      <th></th>\n",
        "      <th>Id</th>\n",
        "      <th>TimeToEnd</th>\n",
        "      <th>DistanceToRadar</th>\n",
        "      <th>Composite</th>\n",
        "      <th>HybridScan</th>\n",
        "      <th>HydrometeorType</th>\n",
        "      <th>Kdp</th>\n",
        "      <th>RR1</th>\n",
        "      <th>RR2</th>\n",
        "      <th>RR3</th>\n",
        "      <th>RadarQualityIndex</th>\n",
        "      <th>Reflectivity</th>\n",
        "      <th>ReflectivityQC</th>\n",
        "      <th>RhoHV</th>\n",
        "      <th>Velocity</th>\n",
        "      <th>Zdr</th>\n",
        "      <th>LogWaterVolume</th>\n",
        "      <th>MassWeightedMean</th>\n",
        "      <th>MassWeightedSD</th>\n",
        "      <th>Expected</th>\n",
        "    </tr>\n",
        "  </thead>\n",
        "  <tbody>\n",
        "    <tr>\n",
        "      <th>0</th>\n",
        "      <td> 1</td>\n",
        "      <td> 56.0 37.0 31.0 25.0 19.0 13.0 7.0 2.0</td>\n",
        "      <td> 30.0 30.0 30.0 30.0 30.0 30.0 30.0 30.0</td>\n",
        "      <td> -99900.0 -99900.0 -99900.0 -99900.0 -99900.0 -...</td>\n",
        "      <td> -99900.0 -99900.0 -99900.0 -99900.0 -99900.0 -...</td>\n",
        "      <td> 8.0 8.0 8.0 8.0 8.0 8.0 8.0 8.0</td>\n",
        "      <td> 0.0 0.0 0.0 0.0 0.0 0.0 0.0 0.0</td>\n",
        "      <td> 0.0 0.0 0.0 0.0 0.0 0.0 0.0 0.0</td>\n",
        "      <td> -99900.0 -99900.0 -99900.0 -99900.0 -99900.0 -...</td>\n",
        "      <td> -99900.0 -99900.0 -99900.0 -99900.0 -99900.0 -...</td>\n",
        "      <td> 0.006246 0.0200476 0.0113924 0.217157 0.028566...</td>\n",
        "      <td> 13.0 17.5 14.0 8.5 7.0 11.0 9.0 9.0</td>\n",
        "      <td> -99900.0 -99900.0 -99900.0 -99900.0 -99900.0 -...</td>\n",
        "      <td> 0.865 0.841667 0.765 0.985 0.768333 0.491667 0...</td>\n",
        "      <td> -99901.0 -99901.0 -99901.0 -99901.0 -99901.0 -...</td>\n",
        "      <td> 7.9375 4.5 4.1875 5.5625 3.375 7.0625 5.3125 6...</td>\n",
        "      <td> nan nan nan nan nan nan nan nan</td>\n",
        "      <td> nan nan nan nan nan nan nan nan</td>\n",
        "      <td> nan nan nan nan nan nan nan nan</td>\n",
        "      <td> 0</td>\n",
        "    </tr>\n",
        "    <tr>\n",
        "      <th>1</th>\n",
        "      <td> 2</td>\n",
        "      <td>          58.0 48.0 38.0 29.0 19.0 9.0</td>\n",
        "      <td>           77.0 77.0 77.0 77.0 77.0 77.0</td>\n",
        "      <td> -99900.0 -99900.0 -99900.0 -99900.0 -99900.0 -...</td>\n",
        "      <td> -99900.0 -99900.0 -99900.0 -99900.0 -99900.0 -...</td>\n",
        "      <td>         8.0 8.0 8.0 8.0 8.0 8.0</td>\n",
        "      <td>         0.0 0.0 0.0 0.0 0.0 0.0</td>\n",
        "      <td>         0.0 0.0 0.0 0.0 0.0 0.0</td>\n",
        "      <td> -99900.0 -99900.0 -99900.0 -99900.0 -99900.0 -...</td>\n",
        "      <td> -99900.0 -99900.0 -99900.0 -99900.0 -99900.0 -...</td>\n",
        "      <td>               999.0 999.0 999.0 999.0 999.0 999.0</td>\n",
        "      <td>         15.0 18.5 10.5 3.0 0.5 -3.0</td>\n",
        "      <td> -99900.0 -99900.0 -99900.0 -99900.0 -99900.0 -...</td>\n",
        "      <td> 0.635 0.851667 0.891667 0.638333 0.791667 0.73...</td>\n",
        "      <td>                      -4.0 -3.0 -2.0 -0.5 -4.0 3.0</td>\n",
        "      <td>                2.6875 3.0 2.375 6.25 3.125 6.0625</td>\n",
        "      <td>         nan nan nan nan nan nan</td>\n",
        "      <td>         nan nan nan nan nan nan</td>\n",
        "      <td>         nan nan nan nan nan nan</td>\n",
        "      <td> 0</td>\n",
        "    </tr>\n",
        "  </tbody>\n",
        "</table>\n",
        "</div>"
       ],
       "metadata": {},
       "output_type": "pyout",
       "prompt_number": 55,
       "text": [
        "   Id                              TimeToEnd                          DistanceToRadar                                          Composite                                         HybridScan                  HydrometeorType                              Kdp                              RR1                                                RR2                                                RR3                                  RadarQualityIndex                         Reflectivity                                     ReflectivityQC                                              RhoHV                                           Velocity                                                Zdr                   LogWaterVolume                 MassWeightedMean                   MassWeightedSD  Expected\n",
        "0   1  56.0 37.0 31.0 25.0 19.0 13.0 7.0 2.0  30.0 30.0 30.0 30.0 30.0 30.0 30.0 30.0  -99900.0 -99900.0 -99900.0 -99900.0 -99900.0 -...  -99900.0 -99900.0 -99900.0 -99900.0 -99900.0 -...  8.0 8.0 8.0 8.0 8.0 8.0 8.0 8.0  0.0 0.0 0.0 0.0 0.0 0.0 0.0 0.0  0.0 0.0 0.0 0.0 0.0 0.0 0.0 0.0  -99900.0 -99900.0 -99900.0 -99900.0 -99900.0 -...  -99900.0 -99900.0 -99900.0 -99900.0 -99900.0 -...  0.006246 0.0200476 0.0113924 0.217157 0.028566...  13.0 17.5 14.0 8.5 7.0 11.0 9.0 9.0  -99900.0 -99900.0 -99900.0 -99900.0 -99900.0 -...  0.865 0.841667 0.765 0.985 0.768333 0.491667 0...  -99901.0 -99901.0 -99901.0 -99901.0 -99901.0 -...  7.9375 4.5 4.1875 5.5625 3.375 7.0625 5.3125 6...  nan nan nan nan nan nan nan nan  nan nan nan nan nan nan nan nan  nan nan nan nan nan nan nan nan         0\n",
        "1   2           58.0 48.0 38.0 29.0 19.0 9.0            77.0 77.0 77.0 77.0 77.0 77.0  -99900.0 -99900.0 -99900.0 -99900.0 -99900.0 -...  -99900.0 -99900.0 -99900.0 -99900.0 -99900.0 -...          8.0 8.0 8.0 8.0 8.0 8.0          0.0 0.0 0.0 0.0 0.0 0.0          0.0 0.0 0.0 0.0 0.0 0.0  -99900.0 -99900.0 -99900.0 -99900.0 -99900.0 -...  -99900.0 -99900.0 -99900.0 -99900.0 -99900.0 -...                999.0 999.0 999.0 999.0 999.0 999.0          15.0 18.5 10.5 3.0 0.5 -3.0  -99900.0 -99900.0 -99900.0 -99900.0 -99900.0 -...  0.635 0.851667 0.891667 0.638333 0.791667 0.73...                       -4.0 -3.0 -2.0 -0.5 -4.0 3.0                 2.6875 3.0 2.375 6.25 3.125 6.0625          nan nan nan nan nan nan          nan nan nan nan nan nan          nan nan nan nan nan nan         0"
       ]
      }
     ],
     "prompt_number": 55
    },
    {
     "cell_type": "code",
     "collapsed": false,
     "input": [
      "#filename = '../sampleSubmission.csv'\n",
      "filename = '../train_2013.csv'\n",
      "\n",
      "data = pd.read_csv(filename, nrows=1000)\n",
      "#data = pd.read_csv(filename)\n",
      "\n",
      "# plot the \"expected\" results, namely the amount of water actually collected in gauges\n",
      "# As stated on the Forum, some gauges give unreasonable readings (above 70 mm). Let's \n",
      "# bin those all together\n",
      "\n",
      "# use the loc construct, as stated in the Docs, to avoid  SettingWithCopy error\n",
      "normalized_expected = data.loc[:,'Expected'] \n",
      "normalized_expected[data['Expected'] > 70 ] = 71\n",
      "\n",
      "number_of_gauges    = 1.*data.shape[0]\n",
      "number_unreasonable = 1.*sum(data['Expected'] > 70)\n",
      "\n",
      "fraction_of_unreasonable = number_unreasonable/number_of_gauges\n",
      "\n",
      "normalized_expected.hist(range=(0.,71),bins=71,log=True)   \n",
      "plt.title('Unreasonable gauge measurements: %4.2f percent'%(100*fraction_of_unreasonable))\n",
      "plt.ylabel('number of gauges')\n",
      "plt.xlabel('mm of rain')\n",
      "plt.show()"
     ],
     "language": "python",
     "metadata": {},
     "outputs": [
      {
       "metadata": {},
       "output_type": "display_data",
       "png": "[encoded data removed]",
       "text": [
        "<matplotlib.figure.Figure at 0x106bc8a90>"
       ]
      }
     ],
     "prompt_number": 62
    },
    {
     "cell_type": "code",
     "collapsed": false,
     "input": [
      "import sys\n",
      "sys.path.append('../Jean_Francois/krad/')\n",
      "import clean\n",
      "\n",
      "is_reasonable_data = data['Expected'] < 70\n",
      "\n",
      "df = data.loc[is_reasonable_data]\n",
      "\n",
      "# Create a new column which contains a tuple representing\n",
      "# the number of distinct radar measurements in the row, each\n",
      "# element of the tuple indicating the number of time steps for a given\n",
      "# radar\n",
      "df['RadarCounts'] = df['TimeToEnd'].apply(clean.getRadarLength)\n",
      "# let's split the radars in different columns, using JF's code"
     ],
     "language": "python",
     "metadata": {},
     "outputs": [],
     "prompt_number": 84
    },
    {
     "cell_type": "code",
     "collapsed": false,
     "input": [
      "df['Z']"
     ],
     "language": "python",
     "metadata": {},
     "outputs": [
      {
       "ename": "KeyError",
       "evalue": "'Z'",
       "output_type": "pyerr",
       "traceback": [
        "\u001b[0;31m---------------------------------------------------------------------------\u001b[0m\n\u001b[0;31mKeyError\u001b[0m                                  Traceback (most recent call last)",
        "\u001b[0;32m<ipython-input-85-2d60e6db8398>\u001b[0m in \u001b[0;36m<module>\u001b[0;34m()\u001b[0m\n\u001b[0;32m----> 1\u001b[0;31m \u001b[0mdf\u001b[0m\u001b[0;34m[\u001b[0m\u001b[0;34m'Z'\u001b[0m\u001b[0;34m]\u001b[0m\u001b[0;34m\u001b[0m\u001b[0m\n\u001b[0m",
        "\u001b[0;32m/usr/local/lib/python2.7/site-packages/pandas/core/frame.pyc\u001b[0m in \u001b[0;36m__getitem__\u001b[0;34m(self, key)\u001b[0m\n\u001b[1;32m   1741\u001b[0m             \u001b[0;32mreturn\u001b[0m \u001b[0mself\u001b[0m\u001b[0;34m.\u001b[0m\u001b[0m_getitem_multilevel\u001b[0m\u001b[0;34m(\u001b[0m\u001b[0mkey\u001b[0m\u001b[0;34m)\u001b[0m\u001b[0;34m\u001b[0m\u001b[0m\n\u001b[1;32m   1742\u001b[0m         \u001b[0;32melse\u001b[0m\u001b[0;34m:\u001b[0m\u001b[0;34m\u001b[0m\u001b[0m\n\u001b[0;32m-> 1743\u001b[0;31m             \u001b[0;32mreturn\u001b[0m \u001b[0mself\u001b[0m\u001b[0;34m.\u001b[0m\u001b[0m_getitem_column\u001b[0m\u001b[0;34m(\u001b[0m\u001b[0mkey\u001b[0m\u001b[0;34m)\u001b[0m\u001b[0;34m\u001b[0m\u001b[0m\n\u001b[0m\u001b[1;32m   1744\u001b[0m \u001b[0;34m\u001b[0m\u001b[0m\n\u001b[1;32m   1745\u001b[0m     \u001b[0;32mdef\u001b[0m \u001b[0m_getitem_column\u001b[0m\u001b[0;34m(\u001b[0m\u001b[0mself\u001b[0m\u001b[0;34m,\u001b[0m \u001b[0mkey\u001b[0m\u001b[0;34m)\u001b[0m\u001b[0;34m:\u001b[0m\u001b[0;34m\u001b[0m\u001b[0m\n",
        "\u001b[0;32m/usr/local/lib/python2.7/site-packages/pandas/core/frame.pyc\u001b[0m in \u001b[0;36m_getitem_column\u001b[0;34m(self, key)\u001b[0m\n\u001b[1;32m   1748\u001b[0m         \u001b[0;31m# get column\u001b[0m\u001b[0;34m\u001b[0m\u001b[0;34m\u001b[0m\u001b[0m\n\u001b[1;32m   1749\u001b[0m         \u001b[0;32mif\u001b[0m \u001b[0mself\u001b[0m\u001b[0;34m.\u001b[0m\u001b[0mcolumns\u001b[0m\u001b[0;34m.\u001b[0m\u001b[0mis_unique\u001b[0m\u001b[0;34m:\u001b[0m\u001b[0;34m\u001b[0m\u001b[0m\n\u001b[0;32m-> 1750\u001b[0;31m             \u001b[0;32mreturn\u001b[0m \u001b[0mself\u001b[0m\u001b[0;34m.\u001b[0m\u001b[0m_get_item_cache\u001b[0m\u001b[0;34m(\u001b[0m\u001b[0mkey\u001b[0m\u001b[0;34m)\u001b[0m\u001b[0;34m\u001b[0m\u001b[0m\n\u001b[0m\u001b[1;32m   1751\u001b[0m \u001b[0;34m\u001b[0m\u001b[0m\n\u001b[1;32m   1752\u001b[0m         \u001b[0;31m# duplicate columns & possible reduce dimensionaility\u001b[0m\u001b[0;34m\u001b[0m\u001b[0;34m\u001b[0m\u001b[0m\n",
        "\u001b[0;32m/usr/local/lib/python2.7/site-packages/pandas/core/generic.pyc\u001b[0m in \u001b[0;36m_get_item_cache\u001b[0;34m(self, item)\u001b[0m\n\u001b[1;32m   1056\u001b[0m         \u001b[0mres\u001b[0m \u001b[0;34m=\u001b[0m \u001b[0mcache\u001b[0m\u001b[0;34m.\u001b[0m\u001b[0mget\u001b[0m\u001b[0;34m(\u001b[0m\u001b[0mitem\u001b[0m\u001b[0;34m)\u001b[0m\u001b[0;34m\u001b[0m\u001b[0m\n\u001b[1;32m   1057\u001b[0m         \u001b[0;32mif\u001b[0m \u001b[0mres\u001b[0m \u001b[0;32mis\u001b[0m \u001b[0mNone\u001b[0m\u001b[0;34m:\u001b[0m\u001b[0;34m\u001b[0m\u001b[0m\n\u001b[0;32m-> 1058\u001b[0;31m             \u001b[0mvalues\u001b[0m \u001b[0;34m=\u001b[0m \u001b[0mself\u001b[0m\u001b[0;34m.\u001b[0m\u001b[0m_data\u001b[0m\u001b[0;34m.\u001b[0m\u001b[0mget\u001b[0m\u001b[0;34m(\u001b[0m\u001b[0mitem\u001b[0m\u001b[0;34m)\u001b[0m\u001b[0;34m\u001b[0m\u001b[0m\n\u001b[0m\u001b[1;32m   1059\u001b[0m             \u001b[0mres\u001b[0m \u001b[0;34m=\u001b[0m \u001b[0mself\u001b[0m\u001b[0;34m.\u001b[0m\u001b[0m_box_item_values\u001b[0m\u001b[0;34m(\u001b[0m\u001b[0mitem\u001b[0m\u001b[0;34m,\u001b[0m \u001b[0mvalues\u001b[0m\u001b[0;34m)\u001b[0m\u001b[0;34m\u001b[0m\u001b[0m\n\u001b[1;32m   1060\u001b[0m             \u001b[0mcache\u001b[0m\u001b[0;34m[\u001b[0m\u001b[0mitem\u001b[0m\u001b[0;34m]\u001b[0m \u001b[0;34m=\u001b[0m \u001b[0mres\u001b[0m\u001b[0;34m\u001b[0m\u001b[0m\n",
        "\u001b[0;32m/usr/local/lib/python2.7/site-packages/pandas/core/internals.pyc\u001b[0m in \u001b[0;36mget\u001b[0;34m(self, item, fastpath)\u001b[0m\n\u001b[1;32m   2804\u001b[0m \u001b[0;34m\u001b[0m\u001b[0m\n\u001b[1;32m   2805\u001b[0m             \u001b[0;32mif\u001b[0m \u001b[0;32mnot\u001b[0m \u001b[0misnull\u001b[0m\u001b[0;34m(\u001b[0m\u001b[0mitem\u001b[0m\u001b[0;34m)\u001b[0m\u001b[0;34m:\u001b[0m\u001b[0;34m\u001b[0m\u001b[0m\n\u001b[0;32m-> 2806\u001b[0;31m                 \u001b[0mloc\u001b[0m \u001b[0;34m=\u001b[0m \u001b[0mself\u001b[0m\u001b[0;34m.\u001b[0m\u001b[0mitems\u001b[0m\u001b[0;34m.\u001b[0m\u001b[0mget_loc\u001b[0m\u001b[0;34m(\u001b[0m\u001b[0mitem\u001b[0m\u001b[0;34m)\u001b[0m\u001b[0;34m\u001b[0m\u001b[0m\n\u001b[0m\u001b[1;32m   2807\u001b[0m             \u001b[0;32melse\u001b[0m\u001b[0;34m:\u001b[0m\u001b[0;34m\u001b[0m\u001b[0m\n\u001b[1;32m   2808\u001b[0m                 \u001b[0mindexer\u001b[0m \u001b[0;34m=\u001b[0m \u001b[0mnp\u001b[0m\u001b[0;34m.\u001b[0m\u001b[0marange\u001b[0m\u001b[0;34m(\u001b[0m\u001b[0mlen\u001b[0m\u001b[0;34m(\u001b[0m\u001b[0mself\u001b[0m\u001b[0;34m.\u001b[0m\u001b[0mitems\u001b[0m\u001b[0;34m)\u001b[0m\u001b[0;34m)\u001b[0m\u001b[0;34m[\u001b[0m\u001b[0misnull\u001b[0m\u001b[0;34m(\u001b[0m\u001b[0mself\u001b[0m\u001b[0;34m.\u001b[0m\u001b[0mitems\u001b[0m\u001b[0;34m)\u001b[0m\u001b[0;34m]\u001b[0m\u001b[0;34m\u001b[0m\u001b[0m\n",
        "\u001b[0;32m/usr/local/lib/python2.7/site-packages/pandas/core/index.pyc\u001b[0m in \u001b[0;36mget_loc\u001b[0;34m(self, key)\u001b[0m\n\u001b[1;32m   1383\u001b[0m         \u001b[0mloc\u001b[0m \u001b[0;34m:\u001b[0m \u001b[0mint\u001b[0m \u001b[0;32mif\u001b[0m \u001b[0munique\u001b[0m \u001b[0mindex\u001b[0m\u001b[0;34m,\u001b[0m \u001b[0mpossibly\u001b[0m \u001b[0mslice\u001b[0m \u001b[0;32mor\u001b[0m \u001b[0mmask\u001b[0m \u001b[0;32mif\u001b[0m \u001b[0;32mnot\u001b[0m\u001b[0;34m\u001b[0m\u001b[0m\n\u001b[1;32m   1384\u001b[0m         \"\"\"\n\u001b[0;32m-> 1385\u001b[0;31m         \u001b[0;32mreturn\u001b[0m \u001b[0mself\u001b[0m\u001b[0;34m.\u001b[0m\u001b[0m_engine\u001b[0m\u001b[0;34m.\u001b[0m\u001b[0mget_loc\u001b[0m\u001b[0;34m(\u001b[0m\u001b[0m_values_from_object\u001b[0m\u001b[0;34m(\u001b[0m\u001b[0mkey\u001b[0m\u001b[0;34m)\u001b[0m\u001b[0;34m)\u001b[0m\u001b[0;34m\u001b[0m\u001b[0m\n\u001b[0m\u001b[1;32m   1386\u001b[0m \u001b[0;34m\u001b[0m\u001b[0m\n\u001b[1;32m   1387\u001b[0m     \u001b[0;32mdef\u001b[0m \u001b[0mget_value\u001b[0m\u001b[0;34m(\u001b[0m\u001b[0mself\u001b[0m\u001b[0;34m,\u001b[0m \u001b[0mseries\u001b[0m\u001b[0;34m,\u001b[0m \u001b[0mkey\u001b[0m\u001b[0;34m)\u001b[0m\u001b[0;34m:\u001b[0m\u001b[0;34m\u001b[0m\u001b[0m\n",
        "\u001b[0;32m/usr/local/lib/python2.7/site-packages/pandas/index.so\u001b[0m in \u001b[0;36mpandas.index.IndexEngine.get_loc (pandas/index.c:3790)\u001b[0;34m()\u001b[0m\n",
        "\u001b[0;32m/usr/local/lib/python2.7/site-packages/pandas/index.so\u001b[0m in \u001b[0;36mpandas.index.IndexEngine.get_loc (pandas/index.c:3670)\u001b[0;34m()\u001b[0m\n",
        "\u001b[0;32m/usr/local/lib/python2.7/site-packages/pandas/hashtable.so\u001b[0m in \u001b[0;36mpandas.hashtable.PyObjectHashTable.get_item (pandas/hashtable.c:12302)\u001b[0;34m()\u001b[0m\n",
        "\u001b[0;32m/usr/local/lib/python2.7/site-packages/pandas/hashtable.so\u001b[0m in \u001b[0;36mpandas.hashtable.PyObjectHashTable.get_item (pandas/hashtable.c:12253)\u001b[0;34m()\u001b[0m\n",
        "\u001b[0;31mKeyError\u001b[0m: 'Z'"
       ]
      }
     ],
     "prompt_number": 85
    },
    {
     "cell_type": "code",
     "collapsed": false,
     "input": [
      "df['TimeToEnd'][4]"
     ],
     "language": "python",
     "metadata": {},
     "outputs": [
      {
       "metadata": {},
       "output_type": "pyout",
       "prompt_number": 81,
       "text": [
        "'56.0 52.0 43.0 59.0 54.0 48.0 42.0 36.0 31.0 57.0 52.0 46.0 41.0 35.0 29.0 59.0 55.0 52.0 48.0 45.0 41.0 37.0 34.0 58.0 55.0 51.0 48.0 45.0 41.0 38.0 31.0 55.0 44.0'"
       ]
      }
     ],
     "prompt_number": 81
    },
    {
     "cell_type": "code",
     "collapsed": false,
     "input": [],
     "language": "python",
     "metadata": {},
     "outputs": []
    }
   ],
   "metadata": {}
  }
 ]
}