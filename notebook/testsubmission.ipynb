{
 "metadata": {
  "name": "",
  "signature": "sha256:59674fe0b762978f9dfec4c88a99446a4a8635740d7af8070703ad48df034950"
 },
 "nbformat": 3,
 "nbformat_minor": 0,
 "worksheets": [
  {
   "cells": [
    {
     "cell_type": "markdown",
     "metadata": {},
     "source": [
      "#Test full chain until submission\n",
      "This is an example of all the steps to make a simple submission"
     ]
    },
    {
     "cell_type": "markdown",
     "metadata": {},
     "source": [
      "##Environment"
     ]
    },
    {
     "cell_type": "code",
     "collapsed": false,
     "input": [
      "# The usual preamble\n",
      "%matplotlib inline\n",
      "import pandas as pd\n",
      "import matplotlib.pyplot as plt\n",
      "import numpy as N\n",
      "\n",
      "# Make the graphs a bit prettier, and bigger\n",
      "pd.set_option('display.mpl_style', 'default')\n",
      "\n",
      "# This is necessary to show lots of columns in pandas 0.12. \n",
      "# Not necessary in pandas 0.13.\n",
      "pd.set_option('display.width', 5000) \n",
      "pd.set_option('display.max_columns', 60)\n",
      "\n",
      "plt.rcParams['figure.figsize'] = (15, 5)"
     ],
     "language": "python",
     "metadata": {},
     "outputs": [],
     "prompt_number": 1
    },
    {
     "cell_type": "markdown",
     "metadata": {},
     "source": [
      "##Getting and cleaning data"
     ]
    },
    {
     "cell_type": "code",
     "collapsed": false,
     "input": [
      "import sys\n",
      "sys.path.append('../../krad/')\n",
      "import clean, solution\n",
      "filename = \"../Data/train_2013.csv\"\n",
      "#nrows = 1000\n",
      "#data = pd.read_csv(filename, nrows=nrows)\n",
      "\n",
      "data = pd.read_csv(filename)\n",
      "nrows = len(data)\n",
      "\n",
      "is_reasonable_data = data['Expected'] < 70\n",
      "\n",
      "# use the .copy method to avoid those annoying SettingWithCopyWarning \n",
      "df = data[is_reasonable_data].copy()\n",
      "del data\n",
      "df['RadarCounts'] = df['TimeToEnd'].apply(clean.getRadarLength)\n",
      "\n",
      "# Get the radar\n",
      "df['Reflectivity1'] = df[['RadarCounts','Reflectivity']].apply(clean.getIthRadar, axis=1)\n",
      "\n",
      "'''\n",
      "# Get the single radar data\n",
      "def identify_single_radar(radar_tuple):\n",
      "    #if radar_tuple[1] == 0:\n",
      "    if len(radar_tuple) < 2:\n",
      "        return True\n",
      "    else:\n",
      "        return False\n",
      "    \n",
      "##For now lets look at only one-radar rows\n",
      "single_radar = df['RadarCounts'].apply(identify_single_radar)\n",
      "df_single_radar = df[single_radar].copy()\n",
      "df_single_radar['Avg_Reflectivity'],  df_single_radar['Range_Reflectivity'], df_single_radar['Nval_Reflectivity']=\\\n",
      "    zip(*df_single_radar['Reflectivity'].apply(clean.getListReductions))\n",
      "col2fit = ['Expected', 'Avg_Reflectivity', 'Range_Reflectivity', 'Nval_Reflectivity']\n",
      "values2fit = df_single_radar[col2fit].values\n",
      "'''\n",
      "\n",
      "\n",
      "## For now, let's use the first radar only\n",
      "df['Avg_Reflectivity'],  df['Range_Reflectivity'], df['Nval_Reflectivity']=\\\n",
      "    zip(*df['Reflectivity1'].apply(clean.getListReductions))\n",
      "\n",
      "\n",
      "col2fit = ['Expected', 'Avg_Reflectivity', 'Range_Reflectivity', 'Nval_Reflectivity']\n",
      "values2fit = df[col2fit].values\n",
      "\n",
      "del df##save memomy"
     ],
     "language": "python",
     "metadata": {},
     "outputs": [],
     "prompt_number": 2
    },
    {
     "cell_type": "markdown",
     "metadata": {},
     "source": [
      "##Set and fit the classifier"
     ]
    },
    {
     "cell_type": "code",
     "collapsed": false,
     "input": [
      "from sklearn.ensemble import RandomForestClassifier\n",
      "\n",
      "forest = RandomForestClassifier(n_estimators=30)\n",
      "\n",
      "nfit = int(0.7*nrows)\n",
      "forest.fit(values2fit[:nfit,1:], values2fit[:nfit,0])\n",
      "\n",
      "output = forest.predict(values2fit[nfit:,1:])\n",
      "#print(list(zip(values2fit[:,0], output))[:100])"
     ],
     "language": "python",
     "metadata": {},
     "outputs": [],
     "prompt_number": 3
    },
    {
     "cell_type": "markdown",
     "metadata": {},
     "source": [
      "##Build score generator"
     ]
    },
    {
     "cell_type": "code",
     "collapsed": false,
     "input": [
      "# Define a function which evaluates the score, following the\n",
      "# definitions on the Kaggle web site: http://www.kaggle.com/c/how-much-did-it-rain/details/evaluation\n",
      "\n",
      "def heaviside(rain_value):\n",
      "    x = N.arange(0,70)\n",
      "    P = N.where(rain_value <= x, 1., 0)\n",
      "    return P\n",
      "\n",
      "def kaggle_metric(predictions, exact_values):\n",
      "    norm = 70.*len(predictions)\n",
      "    \n",
      "    score = 0.\n",
      "    for p,e in zip(predictions,exact_values):\n",
      "        score += N.sum((heaviside(p)-heaviside(e))**2)\n",
      "    \n",
      "    return score/norm"
     ],
     "language": "python",
     "metadata": {},
     "outputs": [],
     "prompt_number": 4
    },
    {
     "cell_type": "markdown",
     "metadata": {},
     "source": [
      "###Simple check on how well the fit did\n",
      "Eventually we should use the sklearn tools to do this"
     ]
    },
    {
     "cell_type": "code",
     "collapsed": false,
     "input": [
      "score = kaggle_metric(N.round(output), values2fit[nfit:,0])\n",
      "print len(output)\n",
      "\n",
      "hdiff = plt.hist(N.subtract(output, values2fit[nfit:,0]), bins=100, range=(-10,10),log=True,align='left')\n",
      "#hdiff = plt.hist(N.subtract(output, values2fit[nfit:,0]), bins=100,log=True)\n",
      "plt.title('Predicted - True. Kaggle Score: %10.8f'%score)"
     ],
     "language": "python",
     "metadata": {},
     "outputs": [
      {
       "output_type": "stream",
       "stream": "stdout",
       "text": [
        "495\n"
       ]
      },
      {
       "metadata": {},
       "output_type": "pyout",
       "prompt_number": 5,
       "text": [
        "<matplotlib.text.Text at 0x167bf5810>"
       ]
      },
      {
       "metadata": {},
       "output_type": "display_data",
       "png": "[encoded data removed]",
       "text": [
        "<matplotlib.figure.Figure at 0x103265a10>"
       ]
      }
     ],
     "prompt_number": 5
    },
    {
     "cell_type": "markdown",
     "metadata": {},
     "source": [
      "##Submission code"
     ]
    },
    {
     "cell_type": "code",
     "collapsed": false,
     "input": [
      "\n",
      "filename = \"../Data/test_2014.csv\"\n",
      "test_data = pd.read_csv(filename)\n",
      "#test_data = pd.read_csv(filename, nrows=300000)\n",
      "\n",
      "\n",
      "\n",
      "# count the number of radars\n",
      "test_data['RadarCounts'] = test_data['TimeToEnd'].apply(clean.getRadarLength)\n",
      "\n",
      "# pick the first radar only\n",
      "\n",
      "#test_data['firstRadarReflectivity'] = (test_data[['RadarCounts','Reflectivity']]\n",
      "#                                       .apply(clean.separate_listInColumn,axis=1)\n",
      "#                                       .apply(lambda tup: tup[0]))\n",
      "\n",
      "\n",
      "test_data['firstRadarReflectivity'] = test_data[['RadarCounts','Reflectivity']].apply(clean.getIthRadar, axis=1)\n",
      "\n",
      "df_test = test_data[['Id','firstRadarReflectivity']].copy()\n",
      "del test_data#Save memory\n",
      "\n",
      "#df_test['Avg_Reflectivity']   = test_data['firstRadarReflectivity'].apply(N.mean)\n",
      "#df_test['Range_Reflectivity'] = test_data['firstRadarReflectivity'].apply(N.ptp)\n",
      "#df_test['Nval_Reflectivity']  = test_data['firstRadarReflectivity'].apply(lambda list:len(list))\n",
      "\n",
      "\n",
      "df_test['Avg_Reflectivity'],  df_test['Range_Reflectivity'], df_test['Nval_Reflectivity']=\\\n",
      "    zip(*df_test['firstRadarReflectivity'].apply(clean.getListReductions))\n",
      "\n",
      "col2fit = ['Avg_Reflectivity', 'Range_Reflectivity', 'Nval_Reflectivity']\n",
      "values2fit = df_test[col2fit].values\n",
      "\n",
      "#create the rain prediction\n",
      "prediction_output = forest.predict(values2fit)\n",
      "\n",
      "#Create the submission data\n",
      "submission_data = N.array(map(heaviside, N.round(prediction_output)))\n",
      "\n",
      "list_id = df_test['Id'].values\n",
      "\n",
      "solution.generate_submission_file(list_id,submission_data)\n"
     ],
     "language": "python",
     "metadata": {},
     "outputs": [
      {
       "ename": "KeyboardInterrupt",
       "evalue": "",
       "output_type": "pyerr",
       "traceback": [
        "\u001b[0;31m---------------------------------------------------------------------------\u001b[0m\n\u001b[0;31mKeyboardInterrupt\u001b[0m                         Traceback (most recent call last)",
        "\u001b[0;32m<ipython-input-6-010f5fd4b715>\u001b[0m in \u001b[0;36m<module>\u001b[0;34m()\u001b[0m\n\u001b[1;32m     32\u001b[0m \u001b[0;34m\u001b[0m\u001b[0m\n\u001b[1;32m     33\u001b[0m \u001b[0;31m#create the rain prediction\u001b[0m\u001b[0;34m\u001b[0m\u001b[0;34m\u001b[0m\u001b[0m\n\u001b[0;32m---> 34\u001b[0;31m \u001b[0mprediction_output\u001b[0m \u001b[0;34m=\u001b[0m \u001b[0mforest\u001b[0m\u001b[0;34m.\u001b[0m\u001b[0mpredict\u001b[0m\u001b[0;34m(\u001b[0m\u001b[0mvalues2fit\u001b[0m\u001b[0;34m)\u001b[0m\u001b[0;34m\u001b[0m\u001b[0m\n\u001b[0m\u001b[1;32m     35\u001b[0m \u001b[0;34m\u001b[0m\u001b[0m\n\u001b[1;32m     36\u001b[0m \u001b[0;31m#Create the submission data\u001b[0m\u001b[0;34m\u001b[0m\u001b[0;34m\u001b[0m\u001b[0m\n",
        "\u001b[0;32m/Users/jean-francoisrajotte/anaconda/lib/python2.7/site-packages/sklearn/ensemble/forest.pyc\u001b[0m in \u001b[0;36mpredict\u001b[0;34m(self, X)\u001b[0m\n\u001b[1;32m    418\u001b[0m         \"\"\"\n\u001b[1;32m    419\u001b[0m         \u001b[0mn_samples\u001b[0m \u001b[0;34m=\u001b[0m \u001b[0mlen\u001b[0m\u001b[0;34m(\u001b[0m\u001b[0mX\u001b[0m\u001b[0;34m)\u001b[0m\u001b[0;34m\u001b[0m\u001b[0m\n\u001b[0;32m--> 420\u001b[0;31m         \u001b[0mproba\u001b[0m \u001b[0;34m=\u001b[0m \u001b[0mself\u001b[0m\u001b[0;34m.\u001b[0m\u001b[0mpredict_proba\u001b[0m\u001b[0;34m(\u001b[0m\u001b[0mX\u001b[0m\u001b[0;34m)\u001b[0m\u001b[0;34m\u001b[0m\u001b[0m\n\u001b[0m\u001b[1;32m    421\u001b[0m \u001b[0;34m\u001b[0m\u001b[0m\n\u001b[1;32m    422\u001b[0m         \u001b[0;32mif\u001b[0m \u001b[0mself\u001b[0m\u001b[0;34m.\u001b[0m\u001b[0mn_outputs_\u001b[0m \u001b[0;34m==\u001b[0m \u001b[0;36m1\u001b[0m\u001b[0;34m:\u001b[0m\u001b[0;34m\u001b[0m\u001b[0m\n",
        "\u001b[0;32m/Users/jean-francoisrajotte/anaconda/lib/python2.7/site-packages/sklearn/ensemble/forest.pyc\u001b[0m in \u001b[0;36mpredict_proba\u001b[0;34m(self, X)\u001b[0m\n\u001b[1;32m    466\u001b[0m                 \u001b[0mself\u001b[0m\u001b[0;34m.\u001b[0m\u001b[0mn_classes_\u001b[0m\u001b[0;34m,\u001b[0m\u001b[0;34m\u001b[0m\u001b[0m\n\u001b[1;32m    467\u001b[0m                 self.n_outputs_)\n\u001b[0;32m--> 468\u001b[0;31m             for i in range(n_jobs))\n\u001b[0m\u001b[1;32m    469\u001b[0m \u001b[0;34m\u001b[0m\u001b[0m\n\u001b[1;32m    470\u001b[0m         \u001b[0;31m# Reduce\u001b[0m\u001b[0;34m\u001b[0m\u001b[0;34m\u001b[0m\u001b[0m\n",
        "\u001b[0;32m/Users/jean-francoisrajotte/anaconda/lib/python2.7/site-packages/sklearn/externals/joblib/parallel.pyc\u001b[0m in \u001b[0;36m__call__\u001b[0;34m(self, iterable)\u001b[0m\n\u001b[1;32m    651\u001b[0m             \u001b[0mself\u001b[0m\u001b[0;34m.\u001b[0m\u001b[0m_iterating\u001b[0m \u001b[0;34m=\u001b[0m \u001b[0mTrue\u001b[0m\u001b[0;34m\u001b[0m\u001b[0m\n\u001b[1;32m    652\u001b[0m             \u001b[0;32mfor\u001b[0m \u001b[0mfunction\u001b[0m\u001b[0;34m,\u001b[0m \u001b[0margs\u001b[0m\u001b[0;34m,\u001b[0m \u001b[0mkwargs\u001b[0m \u001b[0;32min\u001b[0m \u001b[0miterable\u001b[0m\u001b[0;34m:\u001b[0m\u001b[0;34m\u001b[0m\u001b[0m\n\u001b[0;32m--> 653\u001b[0;31m                 \u001b[0mself\u001b[0m\u001b[0;34m.\u001b[0m\u001b[0mdispatch\u001b[0m\u001b[0;34m(\u001b[0m\u001b[0mfunction\u001b[0m\u001b[0;34m,\u001b[0m \u001b[0margs\u001b[0m\u001b[0;34m,\u001b[0m \u001b[0mkwargs\u001b[0m\u001b[0;34m)\u001b[0m\u001b[0;34m\u001b[0m\u001b[0m\n\u001b[0m\u001b[1;32m    654\u001b[0m \u001b[0;34m\u001b[0m\u001b[0m\n\u001b[1;32m    655\u001b[0m             \u001b[0;32mif\u001b[0m \u001b[0mpre_dispatch\u001b[0m \u001b[0;34m==\u001b[0m \u001b[0;34m\"all\"\u001b[0m \u001b[0;32mor\u001b[0m \u001b[0mn_jobs\u001b[0m \u001b[0;34m==\u001b[0m \u001b[0;36m1\u001b[0m\u001b[0;34m:\u001b[0m\u001b[0;34m\u001b[0m\u001b[0m\n",
        "\u001b[0;32m/Users/jean-francoisrajotte/anaconda/lib/python2.7/site-packages/sklearn/externals/joblib/parallel.pyc\u001b[0m in \u001b[0;36mdispatch\u001b[0;34m(self, func, args, kwargs)\u001b[0m\n\u001b[1;32m    398\u001b[0m         \"\"\"\n\u001b[1;32m    399\u001b[0m         \u001b[0;32mif\u001b[0m \u001b[0mself\u001b[0m\u001b[0;34m.\u001b[0m\u001b[0m_pool\u001b[0m \u001b[0;32mis\u001b[0m \u001b[0mNone\u001b[0m\u001b[0;34m:\u001b[0m\u001b[0;34m\u001b[0m\u001b[0m\n\u001b[0;32m--> 400\u001b[0;31m             \u001b[0mjob\u001b[0m \u001b[0;34m=\u001b[0m \u001b[0mImmediateApply\u001b[0m\u001b[0;34m(\u001b[0m\u001b[0mfunc\u001b[0m\u001b[0;34m,\u001b[0m \u001b[0margs\u001b[0m\u001b[0;34m,\u001b[0m \u001b[0mkwargs\u001b[0m\u001b[0;34m)\u001b[0m\u001b[0;34m\u001b[0m\u001b[0m\n\u001b[0m\u001b[1;32m    401\u001b[0m             \u001b[0mindex\u001b[0m \u001b[0;34m=\u001b[0m \u001b[0mlen\u001b[0m\u001b[0;34m(\u001b[0m\u001b[0mself\u001b[0m\u001b[0;34m.\u001b[0m\u001b[0m_jobs\u001b[0m\u001b[0;34m)\u001b[0m\u001b[0;34m\u001b[0m\u001b[0m\n\u001b[1;32m    402\u001b[0m             \u001b[0;32mif\u001b[0m \u001b[0;32mnot\u001b[0m \u001b[0m_verbosity_filter\u001b[0m\u001b[0;34m(\u001b[0m\u001b[0mindex\u001b[0m\u001b[0;34m,\u001b[0m \u001b[0mself\u001b[0m\u001b[0;34m.\u001b[0m\u001b[0mverbose\u001b[0m\u001b[0;34m)\u001b[0m\u001b[0;34m:\u001b[0m\u001b[0;34m\u001b[0m\u001b[0m\n",
        "\u001b[0;32m/Users/jean-francoisrajotte/anaconda/lib/python2.7/site-packages/sklearn/externals/joblib/parallel.pyc\u001b[0m in \u001b[0;36m__init__\u001b[0;34m(self, func, args, kwargs)\u001b[0m\n\u001b[1;32m    136\u001b[0m         \u001b[0;31m# Don't delay the application, to avoid keeping the input\u001b[0m\u001b[0;34m\u001b[0m\u001b[0;34m\u001b[0m\u001b[0m\n\u001b[1;32m    137\u001b[0m         \u001b[0;31m# arguments in memory\u001b[0m\u001b[0;34m\u001b[0m\u001b[0;34m\u001b[0m\u001b[0m\n\u001b[0;32m--> 138\u001b[0;31m         \u001b[0mself\u001b[0m\u001b[0;34m.\u001b[0m\u001b[0mresults\u001b[0m \u001b[0;34m=\u001b[0m \u001b[0mfunc\u001b[0m\u001b[0;34m(\u001b[0m\u001b[0;34m*\u001b[0m\u001b[0margs\u001b[0m\u001b[0;34m,\u001b[0m \u001b[0;34m**\u001b[0m\u001b[0mkwargs\u001b[0m\u001b[0;34m)\u001b[0m\u001b[0;34m\u001b[0m\u001b[0m\n\u001b[0m\u001b[1;32m    139\u001b[0m \u001b[0;34m\u001b[0m\u001b[0m\n\u001b[1;32m    140\u001b[0m     \u001b[0;32mdef\u001b[0m \u001b[0mget\u001b[0m\u001b[0;34m(\u001b[0m\u001b[0mself\u001b[0m\u001b[0;34m)\u001b[0m\u001b[0;34m:\u001b[0m\u001b[0;34m\u001b[0m\u001b[0m\n",
        "\u001b[0;32m/Users/jean-francoisrajotte/anaconda/lib/python2.7/site-packages/sklearn/ensemble/forest.pyc\u001b[0m in \u001b[0;36m_parallel_predict_proba\u001b[0;34m(trees, X, n_classes, n_outputs)\u001b[0m\n\u001b[1;32m    107\u001b[0m \u001b[0;34m\u001b[0m\u001b[0m\n\u001b[1;32m    108\u001b[0m         \u001b[0;32mfor\u001b[0m \u001b[0mtree\u001b[0m \u001b[0;32min\u001b[0m \u001b[0mtrees\u001b[0m\u001b[0;34m:\u001b[0m\u001b[0;34m\u001b[0m\u001b[0m\n\u001b[0;32m--> 109\u001b[0;31m             \u001b[0mproba_tree\u001b[0m \u001b[0;34m=\u001b[0m \u001b[0mtree\u001b[0m\u001b[0;34m.\u001b[0m\u001b[0mpredict_proba\u001b[0m\u001b[0;34m(\u001b[0m\u001b[0mX\u001b[0m\u001b[0;34m)\u001b[0m\u001b[0;34m\u001b[0m\u001b[0m\n\u001b[0m\u001b[1;32m    110\u001b[0m \u001b[0;34m\u001b[0m\u001b[0m\n\u001b[1;32m    111\u001b[0m             \u001b[0;32mif\u001b[0m \u001b[0mn_classes\u001b[0m \u001b[0;34m==\u001b[0m \u001b[0mtree\u001b[0m\u001b[0;34m.\u001b[0m\u001b[0mn_classes_\u001b[0m\u001b[0;34m:\u001b[0m\u001b[0;34m\u001b[0m\u001b[0m\n",
        "\u001b[0;32m/Users/jean-francoisrajotte/anaconda/lib/python2.7/site-packages/sklearn/tree/tree.pyc\u001b[0m in \u001b[0;36mpredict_proba\u001b[0;34m(self, X)\u001b[0m\n\u001b[1;32m    520\u001b[0m                              % (self.n_features_, n_features))\n\u001b[1;32m    521\u001b[0m \u001b[0;34m\u001b[0m\u001b[0m\n\u001b[0;32m--> 522\u001b[0;31m         \u001b[0mproba\u001b[0m \u001b[0;34m=\u001b[0m \u001b[0mself\u001b[0m\u001b[0;34m.\u001b[0m\u001b[0mtree_\u001b[0m\u001b[0;34m.\u001b[0m\u001b[0mpredict\u001b[0m\u001b[0;34m(\u001b[0m\u001b[0mX\u001b[0m\u001b[0;34m)\u001b[0m\u001b[0;34m\u001b[0m\u001b[0m\n\u001b[0m\u001b[1;32m    523\u001b[0m \u001b[0;34m\u001b[0m\u001b[0m\n\u001b[1;32m    524\u001b[0m         \u001b[0;32mif\u001b[0m \u001b[0mself\u001b[0m\u001b[0;34m.\u001b[0m\u001b[0mn_outputs_\u001b[0m \u001b[0;34m==\u001b[0m \u001b[0;36m1\u001b[0m\u001b[0;34m:\u001b[0m\u001b[0;34m\u001b[0m\u001b[0m\n",
        "\u001b[0;31mKeyboardInterrupt\u001b[0m: "
       ]
      }
     ],
     "prompt_number": 6
    },
    {
     "cell_type": "code",
     "collapsed": false,
     "input": [
      "\n"
     ],
     "language": "python",
     "metadata": {},
     "outputs": []
    }
   ],
   "metadata": {}
  }
 ]
}
