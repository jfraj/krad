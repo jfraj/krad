{
 "metadata": {
  "name": "",
  "signature": "sha256:b5c9050dadba4bf4aa692edab20891ea195550c779a4be402f9959ae178b7952"
 },
 "nbformat": 3,
 "nbformat_minor": 0,
 "worksheets": [
  {
   "cells": [
    {
     "cell_type": "markdown",
     "metadata": {},
     "source": [
      "#Test full chain until submission\n",
      "This is an example of all the steps to make a simple submission"
     ]
    },
    {
     "cell_type": "markdown",
     "metadata": {},
     "source": [
      "##Environment"
     ]
    },
    {
     "cell_type": "code",
     "collapsed": false,
     "input": [
      "# The usual preamble\n",
      "%matplotlib inline\n",
      "import pandas as pd\n",
      "import matplotlib.pyplot as plt\n",
      "import numpy as N\n",
      "\n",
      "# Make the graphs a bit prettier, and bigger\n",
      "pd.set_option('display.mpl_style', 'default')\n",
      "\n",
      "# This is necessary to show lots of columns in pandas 0.12. \n",
      "# Not necessary in pandas 0.13.\n",
      "pd.set_option('display.width', 5000) \n",
      "pd.set_option('display.max_columns', 60)\n",
      "\n",
      "plt.rcParams['figure.figsize'] = (15, 5)"
     ],
     "language": "python",
     "metadata": {},
     "outputs": [],
     "prompt_number": 1
    },
    {
     "cell_type": "markdown",
     "metadata": {},
     "source": [
      "##Getting and cleaning data"
     ]
    },
    {
     "cell_type": "code",
     "collapsed": false,
     "input": [
      "import sys\n",
      "sys.path.append('../../krad/')\n",
      "import clean, solution\n",
      "from score import kaggle_metric, heaviside\n",
      "\n",
      "filename = \"../Data/train_2013.csv\"\n",
      "nrows = 1000\n",
      "data = pd.read_csv(filename, nrows=nrows)\n",
      "#data = pd.read_csv(filename)\n",
      "nrows = len(data)\n",
      "\n",
      "is_reasonable_data = data['Expected'] < 70\n",
      "\n",
      "# use the .copy method to avoid those annoying SettingWithCopyWarning \n",
      "df = data[is_reasonable_data].copy()\n",
      "del data\n",
      "df['RadarCounts'] = df['TimeToEnd'].apply(clean.getRadarLength)\n",
      "\n",
      "# Get the radar\n",
      "df['Reflectivity1'] = df[['RadarCounts','Reflectivity']].apply(clean.getIthRadar, axis=1)\n",
      "\n",
      "'''\n",
      "# Get the single radar data\n",
      "def identify_single_radar(radar_tuple):\n",
      "    #if radar_tuple[1] == 0:\n",
      "    if len(radar_tuple) < 2:\n",
      "        return True\n",
      "    else:\n",
      "        return False\n",
      "    \n",
      "##For now lets look at only one-radar rows\n",
      "single_radar = df['RadarCounts'].apply(identify_single_radar)\n",
      "df_single_radar = df[single_radar].copy()\n",
      "df_single_radar['Avg_Reflectivity'],  df_single_radar['Range_Reflectivity'], df_single_radar['Nval_Reflectivity']=\\\n",
      "    zip(*df_single_radar['Reflectivity'].apply(clean.getListReductions))\n",
      "col2fit = ['Expected', 'Avg_Reflectivity', 'Range_Reflectivity', 'Nval_Reflectivity']\n",
      "values2fit = df_single_radar[col2fit].values\n",
      "'''\n",
      "\n",
      "\n",
      "## For now, let's use the first radar only\n",
      "df['Avg_Reflectivity'],  df['Range_Reflectivity'], df['Nval_Reflectivity']=\\\n",
      "    zip(*df['Reflectivity1'].apply(clean.getListReductions))\n",
      "\n",
      "\n",
      "col2fit = ['Expected', 'Avg_Reflectivity', 'Range_Reflectivity', 'Nval_Reflectivity']\n",
      "values2fit = df[col2fit].values\n",
      "\n",
      "del df##save memomy"
     ],
     "language": "python",
     "metadata": {},
     "outputs": [],
     "prompt_number": 6
    },
    {
     "cell_type": "markdown",
     "metadata": {},
     "source": [
      "##Set and fit the classifier"
     ]
    },
    {
     "cell_type": "code",
     "collapsed": false,
     "input": [
      "from sklearn.ensemble import RandomForestClassifier\n",
      "\n",
      "forest = RandomForestClassifier(n_estimators=30)\n",
      "\n",
      "nfit = int(0.7*nrows)\n",
      "forest.fit(values2fit[:nfit,1:], values2fit[:nfit,0])\n",
      "\n",
      "output = forest.predict(values2fit[nfit:,1:])\n",
      "#print(list(zip(values2fit[:,0], output))[:100])"
     ],
     "language": "python",
     "metadata": {},
     "outputs": [],
     "prompt_number": 7
    },
    {
     "cell_type": "markdown",
     "metadata": {},
     "source": [
      "###Simple check on how well the fit did\n",
      "Eventually we should use the sklearn tools to do this"
     ]
    },
    {
     "cell_type": "code",
     "collapsed": false,
     "input": [
      "score = kaggle_metric(N.round(output), values2fit[nfit:,0])\n",
      "print len(output)\n",
      "\n",
      "hdiff = plt.hist(N.subtract(output, values2fit[nfit:,0]), bins=100, range=(-10,10),log=True,align='left')\n",
      "#hdiff = plt.hist(N.subtract(output, values2fit[nfit:,0]), bins=100,log=True)\n",
      "plt.title('Predicted - True. Kaggle Score: %10.8f'%score)"
     ],
     "language": "python",
     "metadata": {},
     "outputs": [
      {
       "output_type": "stream",
       "stream": "stdout",
       "text": [
        "297\n"
       ]
      },
      {
       "metadata": {},
       "output_type": "pyout",
       "prompt_number": 8,
       "text": [
        "<matplotlib.text.Text at 0x115966150>"
       ]
      },
      {
       "metadata": {},
       "output_type": "display_data",
       "png": "[encoded data removed]",
       "text": [
        "<matplotlib.figure.Figure at 0x11601e0d0>"
       ]
      }
     ],
     "prompt_number": 8
    },
    {
     "cell_type": "markdown",
     "metadata": {},
     "source": [
      "##Submission code"
     ]
    },
    {
     "cell_type": "code",
     "collapsed": false,
     "input": [
      "\n",
      "filename = \"../Data/test_2014.csv\"\n",
      "#test_data = pd.read_csv(filename)\n",
      "test_data = pd.read_csv(filename, nrows=1000)\n",
      "\n",
      "\n",
      "\n",
      "# count the number of radars\n",
      "test_data['RadarCounts'] = test_data['TimeToEnd'].apply(clean.getRadarLength)\n",
      "\n",
      "# pick the first radar only\n",
      "\n",
      "#test_data['firstRadarReflectivity'] = (test_data[['RadarCounts','Reflectivity']]\n",
      "#                                       .apply(clean.separate_listInColumn,axis=1)\n",
      "#                                       .apply(lambda tup: tup[0]))\n",
      "\n",
      "\n",
      "test_data['firstRadarReflectivity'] = test_data[['RadarCounts','Reflectivity']].apply(clean.getIthRadar, axis=1)\n",
      "\n",
      "df_test = test_data[['Id','firstRadarReflectivity']].copy()\n",
      "del test_data#Save memory\n",
      "\n",
      "#df_test['Avg_Reflectivity']   = test_data['firstRadarReflectivity'].apply(N.mean)\n",
      "#df_test['Range_Reflectivity'] = test_data['firstRadarReflectivity'].apply(N.ptp)\n",
      "#df_test['Nval_Reflectivity']  = test_data['firstRadarReflectivity'].apply(lambda list:len(list))\n",
      "\n",
      "\n",
      "df_test['Avg_Reflectivity'],  df_test['Range_Reflectivity'], df_test['Nval_Reflectivity']=\\\n",
      "    zip(*df_test['firstRadarReflectivity'].apply(clean.getListReductions))\n",
      "\n",
      "col2fit = ['Avg_Reflectivity', 'Range_Reflectivity', 'Nval_Reflectivity']\n",
      "values2fit = df_test[col2fit].values\n",
      "\n",
      "#create the rain prediction\n",
      "prediction_output = forest.predict(values2fit)\n",
      "\n",
      "#Create the submission data\n",
      "submission_data = N.array(map(heaviside, N.round(prediction_output)))\n",
      "\n",
      "list_id = df_test['Id'].values\n",
      "\n",
      "solution.generate_submission_file(list_id,submission_data)\n"
     ],
     "language": "python",
     "metadata": {},
     "outputs": [
      {
       "output_type": "stream",
       "stream": "stderr",
       "text": [
        "Completed row 1000\n"
       ]
      },
      {
       "output_type": "stream",
       "stream": "stderr",
       "text": [
        "INFO:generating_submission:Completed row 1000\n"
       ]
      }
     ],
     "prompt_number": 9
    },
    {
     "cell_type": "code",
     "collapsed": false,
     "input": [
      "\n"
     ],
     "language": "python",
     "metadata": {},
     "outputs": []
    }
   ],
   "metadata": {}
  }
 ]
}