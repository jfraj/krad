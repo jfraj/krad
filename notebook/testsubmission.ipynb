{
 "metadata": {
  "name": "",
  "signature": "sha256:7443be4c6cf1439c5666ab6435658d8f1028afa9015322c1a1ecb0196dc64c98"
 },
 "nbformat": 3,
 "nbformat_minor": 0,
 "worksheets": [
  {
   "cells": [
    {
     "cell_type": "markdown",
     "metadata": {},
     "source": [
      "#Test full chain until submission\n",
      "This is an example of all the steps to make a simple submission"
     ]
    },
    {
     "cell_type": "markdown",
     "metadata": {},
     "source": [
      "##Environment"
     ]
    },
    {
     "cell_type": "code",
     "collapsed": false,
     "input": [
      "# The usual preamble\n",
      "%matplotlib inline\n",
      "import pandas as pd\n",
      "import matplotlib.pyplot as plt\n",
      "import numpy as N\n",
      "\n",
      "# Make the graphs a bit prettier, and bigger\n",
      "pd.set_option('display.mpl_style', 'default')\n",
      "\n",
      "# This is necessary to show lots of columns in pandas 0.12. \n",
      "# Not necessary in pandas 0.13.\n",
      "pd.set_option('display.width', 5000) \n",
      "pd.set_option('display.max_columns', 60)\n",
      "\n",
      "plt.rcParams['figure.figsize'] = (15, 5)"
     ],
     "language": "python",
     "metadata": {},
     "outputs": [],
     "prompt_number": 1
    },
    {
     "cell_type": "markdown",
     "metadata": {},
     "source": [
      "##Getting and cleaning data"
     ]
    },
    {
     "cell_type": "code",
     "collapsed": false,
     "input": [
      "import sys\n",
      "sys.path.append('../../krad/')\n",
      "import clean\n",
      "filename = \"../Data/train_2013.csv\"\n",
      "nrows = 1000000\n",
      "data = pd.read_csv(filename, nrows=nrows)\n",
      "\n",
      "is_reasonable_data = data['Expected'] < 70\n",
      "\n",
      "# use the .copy method to avoid those annoying SettingWithCopyWarning \n",
      "df = data[is_reasonable_data].copy()\n",
      "df['RadarCounts'] = df['TimeToEnd'].apply(clean.getRadarLength)\n",
      "\n",
      "# Get the single radar data\n",
      "def identify_single_radar(radar_tuple):\n",
      "    #if radar_tuple[1] == 0:\n",
      "    if len(radar_tuple) < 2:\n",
      "        return True\n",
      "    else:\n",
      "        return False\n",
      "    \n",
      "##For now lets look at only one-radar rows\n",
      "single_radar = df['RadarCounts'].apply(identify_single_radar)\n",
      "df_single_radar = df[single_radar].copy()\n",
      "df_single_radar['Avg_Reflectivity'],  df_single_radar['Range_Reflectivity'], df_single_radar['Nval_Reflectivity']=\\\n",
      "    zip(*df_single_radar['Reflectivity'].apply(clean.getListReductions))\n",
      "    \n",
      "##\n",
      "col2fit = ['Expected', 'Avg_Reflectivity', 'Range_Reflectivity', 'Nval_Reflectivity']\n",
      "values2fit = df_single_radar[col2fit].values"
     ],
     "language": "python",
     "metadata": {},
     "outputs": [],
     "prompt_number": 2
    },
    {
     "cell_type": "markdown",
     "metadata": {},
     "source": [
      "##Set and fit the classifier"
     ]
    },
    {
     "cell_type": "code",
     "collapsed": false,
     "input": [
      "from sklearn.ensemble import RandomForestClassifier\n",
      "\n",
      "forest = RandomForestClassifier(n_estimators=30)\n",
      "\n",
      "nfit = int(0.7*nrows)\n",
      "forest.fit(values2fit[:nfit,1:], values2fit[:nfit,0])\n",
      "\n",
      "output = forest.predict(values2fit[nfit:,1:])\n",
      "#print(list(zip(values2fit[:,0], output))[:100])"
     ],
     "language": "python",
     "metadata": {},
     "outputs": [],
     "prompt_number": 3
    },
    {
     "cell_type": "markdown",
     "metadata": {},
     "source": [
      "##Build score generator"
     ]
    },
    {
     "cell_type": "code",
     "collapsed": false,
     "input": [
      "# Define a function which evaluates the score, following the\n",
      "# definitions on the Kaggle web site: http://www.kaggle.com/c/how-much-did-it-rain/details/evaluation\n",
      "\n",
      "def heaviside(rain_value):\n",
      "    x = N.arange(0,70)\n",
      "    P = N.where(rain_value <= x, 1., 0)\n",
      "    return P\n",
      "\n",
      "def kaggle_metric(predictions, exact_values):\n",
      "    norm = 70.*len(predictions)\n",
      "    \n",
      "    score = 0.\n",
      "    for p,e in zip(predictions,exact_values):\n",
      "        score += N.sum((heaviside(p)-heaviside(e))**2)\n",
      "    \n",
      "    return score/norm"
     ],
     "language": "python",
     "metadata": {},
     "outputs": [],
     "prompt_number": 4
    },
    {
     "cell_type": "markdown",
     "metadata": {},
     "source": [
      "###Simple check on how well the fit did\n",
      "Eventually we should use the sklearn tools to do this"
     ]
    },
    {
     "cell_type": "code",
     "collapsed": false,
     "input": [
      "score = kaggle_metric(output, values2fit[nfit:,0])\n",
      "\n",
      "hdiff = plt.hist(N.subtract(output, values2fit[nfit:,0]), bins=100, range=(-10,10),log=True,align='left')\n",
      "#hdiff = plt.hist(N.subtract(output, values2fit[nfit:,0]), bins=100,log=True)\n",
      "plt.title('Predicted - True. Kaggle Score: %10.8f'%score)"
     ],
     "language": "python",
     "metadata": {},
     "outputs": [
      {
       "metadata": {},
       "output_type": "pyout",
       "prompt_number": 5,
       "text": [
        "<matplotlib.text.Text at 0x11e816050>"
       ]
      },
      {
       "metadata": {},
       "output_type": "display_data",
       "png": "[encoded data removed]",
       "text": [
        "<matplotlib.figure.Figure at 0x11b5a6f90>"
       ]
      }
     ],
     "prompt_number": 5
    },
    {
     "cell_type": "markdown",
     "metadata": {},
     "source": [
      "##Need to write the submission code"
     ]
    },
    {
     "cell_type": "code",
     "collapsed": false,
     "input": [],
     "language": "python",
     "metadata": {},
     "outputs": [],
     "prompt_number": 9
    }
   ],
   "metadata": {}
  }
 ]
}