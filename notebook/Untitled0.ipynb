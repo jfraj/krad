{
 "metadata": {
  "name": "",
  "signature": "sha256:ef406a05afe1302a4d562fc174cd1ba0b7163774ac075e62173ddbee934637b2"
 },
 "nbformat": 3,
 "nbformat_minor": 0,
 "worksheets": []
}